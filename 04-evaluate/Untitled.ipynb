{
 "cells": [
  {
   "cell_type": "code",
   "execution_count": 3,
   "id": "7b6b5799-74b4-4f54-9952-bff8b3720426",
   "metadata": {
    "tags": []
   },
   "outputs": [],
   "source": [
    "import pandas as pd\n",
    "from sagemaker import Session"
   ]
  },
  {
   "cell_type": "code",
   "execution_count": 4,
   "id": "0e493816-8c6b-41a6-8d1c-ca8a260fff89",
   "metadata": {
    "tags": []
   },
   "outputs": [],
   "source": [
    "import boto3\n"
   ]
  },
  {
   "cell_type": "code",
   "execution_count": 5,
   "id": "d0568e63-9467-460a-b1ec-a9ac7bb57f73",
   "metadata": {
    "tags": []
   },
   "outputs": [],
   "source": [
    "session = Session()\n",
    "s3 = boto3.resource('s3')\n",
    "\n",
    "S3_BUCKET = session.default_bucket()\n",
    "S3_DATA_FOLDER = 'bert-data'"
   ]
  },
  {
   "cell_type": "code",
   "execution_count": 6,
   "id": "896190da-8035-45fc-a6a0-d071adf6c214",
   "metadata": {
    "tags": []
   },
   "outputs": [
    {
     "data": {
      "text/plain": [
       "'s3://sagemaker-us-east-1-119174016168/bert-data/covid_articles_raw.csv'"
      ]
     },
     "execution_count": 6,
     "metadata": {},
     "output_type": "execute_result"
    }
   ],
   "source": [
    "path = f's3://{S3_BUCKET}/{S3_DATA_FOLDER}/covid_articles_raw.csv'\n",
    "path"
   ]
  },
  {
   "cell_type": "code",
   "execution_count": 7,
   "id": "6b5d8233-fa1c-495a-b8d4-996d1e52a52f",
   "metadata": {
    "tags": []
   },
   "outputs": [],
   "source": [
    "df = pd.read_csv(path, on_bad_lines='skip', names=['title', 'content', 'category'])"
   ]
  },
  {
   "cell_type": "code",
   "execution_count": 8,
   "id": "d5077456-56ed-4f2e-93c4-1514fa8ae2e0",
   "metadata": {
    "tags": []
   },
   "outputs": [
    {
     "data": {
      "text/html": [
       "<div>\n",
       "<style scoped>\n",
       "    .dataframe tbody tr th:only-of-type {\n",
       "        vertical-align: middle;\n",
       "    }\n",
       "\n",
       "    .dataframe tbody tr th {\n",
       "        vertical-align: top;\n",
       "    }\n",
       "\n",
       "    .dataframe thead th {\n",
       "        text-align: right;\n",
       "    }\n",
       "</style>\n",
       "<table border=\"1\" class=\"dataframe\">\n",
       "  <thead>\n",
       "    <tr style=\"text-align: right;\">\n",
       "      <th></th>\n",
       "      <th>title</th>\n",
       "      <th>content</th>\n",
       "      <th>category</th>\n",
       "    </tr>\n",
       "  </thead>\n",
       "  <tbody>\n",
       "    <tr>\n",
       "      <th>0</th>\n",
       "      <td>title</td>\n",
       "      <td>content</td>\n",
       "      <td>category</td>\n",
       "    </tr>\n",
       "    <tr>\n",
       "      <th>1</th>\n",
       "      <td>Looking into the truth about modern workplace ...</td>\n",
       "      <td>Hi, what are you looking for?\\nBy\\nPublished\\n...</td>\n",
       "      <td>general</td>\n",
       "    </tr>\n",
       "    <tr>\n",
       "      <th>2</th>\n",
       "      <td>Hexo refiles financial statements</td>\n",
       "      <td>New York reported a record 90,132 new Covid-19...</td>\n",
       "      <td>general</td>\n",
       "    </tr>\n",
       "    <tr>\n",
       "      <th>3</th>\n",
       "      <td>Japan raid, Turkey arrests in widening Ghosn p...</td>\n",
       "      <td>Hi, what are you looking for?\\nBy\\nPublished\\n...</td>\n",
       "      <td>general</td>\n",
       "    </tr>\n",
       "    <tr>\n",
       "      <th>4</th>\n",
       "      <td>Pope's bodyguards criticised over slapping inc...</td>\n",
       "      <td>Hi, what are you looking for?\\nBy\\nPublished\\n...</td>\n",
       "      <td>general</td>\n",
       "    </tr>\n",
       "  </tbody>\n",
       "</table>\n",
       "</div>"
      ],
      "text/plain": [
       "                                               title  \\\n",
       "0                                              title   \n",
       "1  Looking into the truth about modern workplace ...   \n",
       "2                  Hexo refiles financial statements   \n",
       "3  Japan raid, Turkey arrests in widening Ghosn p...   \n",
       "4  Pope's bodyguards criticised over slapping inc...   \n",
       "\n",
       "                                             content  category  \n",
       "0                                            content  category  \n",
       "1  Hi, what are you looking for?\\nBy\\nPublished\\n...   general  \n",
       "2  New York reported a record 90,132 new Covid-19...   general  \n",
       "3  Hi, what are you looking for?\\nBy\\nPublished\\n...   general  \n",
       "4  Hi, what are you looking for?\\nBy\\nPublished\\n...   general  "
      ]
     },
     "execution_count": 8,
     "metadata": {},
     "output_type": "execute_result"
    }
   ],
   "source": [
    "df.head()"
   ]
  },
  {
   "cell_type": "code",
   "execution_count": 43,
   "id": "f63ecbc7-1d3f-4bf7-8ec7-318030cc18cb",
   "metadata": {
    "tags": []
   },
   "outputs": [
    {
     "name": "stdout",
     "output_type": "stream",
     "text": [
      "People have a lot of bizarre notions about Covid-19 and the 2020 elections—but if you have to laugh, just do it in private.\n",
      "--------------------------------------------------------------------------------------------------------------------------------------------------------------------------------------------------------\n",
      "“\n",
      "‘ After November 3rd, coronavirus will magically, all of the sudden, go away and disappear and everybody will be able to reopen.’\n",
      "”\n",
      "That’ s all part of the Democrats’ “ very cognizant strategy ” to take down Donald Trump ahead of the 2020 election, according to Eric Trump, who laid out his case on Fox News over the weekend.\n",
      "If Eric’ s optimistic forecast sounds familiar, it should. His father said back in February that the coronavirus would “ disappear ” one day “ like a miracle. ”\n",
      "At last count, almost 90,000 people in the U.S. have died from COVID-19, according to Johns Hopkins University. Globally, there have been more than 312,000 deaths.\n",
      "But Eric still maintains that it’ s a tactic by the left.\n",
      "“ They think they’ re taking away Donald Trump’ s greatest tool, which is to go into an arena and fill it with 50,000 people every time, ” he continued in his interview with Jeannine Pirro. “ They will milk it every single day between now and November 3rd. ”\n",
      "Here’ s a clip from the interview:\n",
      "iframe.twitter-tweet { width: 100%! important; }\n",
      "--------------------------------------------------------------------------------------------------------------------------------------------------------------------------------------------------------\n",
      "Cloudflare CEO and Founder Matthew Prince joins Yahoo Fiance's Alexis Christoforous and Brian Sozzi to discuss a rise in cyberattacks amid the coronavirus pandemic, in addition to its preparation for the 2020 election and more.\n",
      "--------------------------------------------------------------------------------------------------------------------------------------------------------------------------------------------------------\n",
      "( This story is for CNBC Pro subscribers only.)\n",
      "The stock market will determine the outcome of the 2020 election, according to the head of policy research at Strategas Research Partners.\n",
      "If `` stocks are higher the incumbent party wins, stocks are lower the opposition party wins, '' Dan Clifton said on CNBC's `` The Exchange '' on Monday.\n",
      "`` The S & P 500 has predicted every presidential election winner since 1984 and 87% of the winners since 1928, and it's really about the performance of stocks in the 90-day period before the election, '' Clifton added.\n",
      "Investors are evaluating what a re-election for President Donald Trump or the election of former vice president and democratic candidate Joe Biden would mean for equities.\n",
      "The consensus on Wall Street is that Trump would be better for stocks, but JPMorgan said Monday the coronavirus will force Biden to moderate his policies that could create headwinds for U.S. business. Trump, who lags Biden in national polls by 8.7 percentage points, is liked by the investing community for his corporate tax cuts.\n",
      "--------------------------------------------------------------------------------------------------------------------------------------------------------------------------------------------------------\n",
      "Twitter users on Tuesday morning called out President Donald Trump for his brazen attempt at rewriting the narrative about his disastrous weekend interview on Fox News.\n",
      "The president was widely mocked and slammed for his sit-down with Chris Wallace that aired Sunday. It featured Trump bragging about acing a cognitive test, continuing to downplay the coronavirus pandemic, refusing to say if he’ d accept the 2020 election result and getting fact-checked to his face for false claims about presumptive Democratic nominee Joe Biden.\n",
      "Trump had an alternate spin.\n",
      "“ Thank you for the good reviews and comments on my interview with Chris Wallace of @ FoxNews, ” the president tweeted. He noted the interview was “ a record ” in the heat, but didn’ t say what the weather had to do with his behavior.\n",
      "Tweeters were perplexed by Trump’ s post.\n",
      "Some accused the president of gaslighting. Others wondered if he was writing about the same interview they had watched:\n",
      "Continue reading on HuffPost\n",
      "--------------------------------------------------------------------------------------------------------------------------------------------------------------------------------------------------------\n",
      "Democratic Party candidate Joe Biden announced Kamala Harris would be his running mate in the 2020 election.\n",
      "The response from the White House was swift, with Trump campaign releasing an attack ad, Trump himself calling her `` nasty '' in record time, and Mike Pence saying he looked forward to debating her in October.\n",
      "President Donald Trump meanwhile claims that he could have beaten founding father George Washington in an election. He also incorrectly described his polls as 'going up like a rocket ship '. The latest Monmouth University poll has him trailing former vice president Biden by 10 points -- outside the margin of error.\n",
      "The president also once again claimed on Tuesday that Covid-19 tests produced `` more cases '' as he denounced criticism over the so-called `` China Plague! ``, which he admitted had altered his relationship with Chinese president Xi Jinping in an interview with Fox Sports Radio.\n",
      "Trump said there were three viable American vaccines in the final stage of clinical trials, and that the government had ordered 600 million doses of a top candidate to be manufactured for immediate deployment once approved.\n",
      "\n",
      "--------------------------------------------------------------------------------------------------------------------------------------------------------------------------------------------------------\n",
      "Just one week into the fall semester, University of North Carolina-Chapel Hill undergraduate students will once again shift to remote learning, the university announced Monday.\n",
      "The move comes after four clusters of coronavirus cases broke out among students, and the the university's COVID-19 positivity rate more than quadrupled from 2.8 percent to 13.6 percent last week.\n",
      "\n",
      "Per The Daily Tar Heel, the student-led campus newspaper, the university is attempting to de-densify on-campus housing. Students will be able to cancel their housing contracts without penalty, while those students who don't have reliable internet access elsewhere, student-athletes, and international students will have the option to remain.\n",
      "As things stand, 177 UNC-Chapel Hill students are in isolation and 349 more are in quarantine both on and off campus. Fortunately, the university's chancellor Kevin Guskiewicz said, most students who have tested positive have displayed only mild symptoms.\n",
      "Graduate, professional, and health affairs schools will continue to teach classes as the individual schools see fit. Read more at The Daily Tar Heel.\n",
      "More stories from theweek.comThe culture war in a tuna fish sandwichTrump wants to take America down with himJohn Boehner would 'rather set himself on fire ' than get involved in the 2020 election\n",
      "--------------------------------------------------------------------------------------------------------------------------------------------------------------------------------------------------------\n",
      "[ The stream is slated to start at 9 p.m. ET. Please refresh the page if you do not see a player above at that time. ]\n",
      "Former President Barack Obama is set to speak at the Democratic National Convention on Wednesday as the party lays out its vision for how a Joe Biden presidency would handle the coronavirus pandemic and rebuild the U.S. economy.\n",
      "The third night of the convention will see California Sen. Kamala Harris accepting the Democratic Party's vice presidential nomination. Biden on Tuesday was officially designated as the Democrats ' nominee to take on President Donald Trump in the 2020 election.\n",
      "Also set to deliver remarks are former Secretary of State Hillary Clinton, the party's nominee in 2016 who lost to Trump, along with House Speaker Nancy Pelosi and Massachusetts Sen. Elizabeth Warren.\n",
      "Subscribe to CNBC on YouTube.\n",
      "--------------------------------------------------------------------------------------------------------------------------------------------------------------------------------------------------------\n",
      "The Republican National Convention touted the Trump administration's approach to the economy and response to the Covid-19 pandemic, honored first responders and levied harsh attacks on Democratic presidential nominee Joe Biden.\n",
      "Vice President Mike Pence, Rudy Giuliani and Donald Trump's children lauded the president while slamming the Democratic Party's agenda, which some called socialist. They also highlighted Trump's approach to relations with China, claiming the trade war successfully protected American workers.\n",
      "The convention also featured speeches from those who said they had been victimized by `` cancel culture. ''\n",
      "During the four-night event, Trump participated in a naturalization ceremony for five newly minted American citizens and pardoned convicted bank robber Jon Ponder.\n",
      "Kellyanne Conway, Secretary of State Mike Pompeo, Larry Kudlow and others served as character witnesses for Trump. Ivanka Trump said her father's determination had not wavered during his term, `` Washington has not changed Donald Trump. Donald Trump has changed Washington. ''\n",
      "Trump and Pence formally accepted their nominations to the Republican Party's ticket for the 2020 election. Watch the video to see the newsiest moments from the four nights.\n",
      "--------------------------------------------------------------------------------------------------------------------------------------------------------------------------------------------------------\n",
      "[ The stream is slated to start at 5:30 p.m ET. Please refresh the page if you do not see a player above at that time. ]\n",
      "President Donald Trump is set to speak at a news conference Friday as the 2020 election race kicks into high gear.\n",
      "Trump earlier in the day denied a bombshell report from The Atlantic, in which multiple unnamed sources said the president had disparaged fallen U.S. service members as `` losers '' and `` suckers '' after a visit to the Aisne-Marne American Cemetery in France had been canceled.\n",
      "Numerous current administration officials denounced the report, details of which have also been reported by The Washington Post and The Associated Press.\n",
      "Democratic nominee Joe Biden's campaign seized on the reports, and Biden himself ripped Trump's reported comments as a `` disgrace '' earlier Friday.\n",
      "Meanwhile, Vice President Mike Pence said Friday the Trump administration and Congress have agreed to pass a bill to avoid a government shutdown without tying funding to separate measures such as coronavirus relief. That agreement comes amid a deadlock between Democrats and the White House over another round of stimulus amid the pandemic.\n",
      "Subscribe to CNBC on YouTube.\n",
      "--------------------------------------------------------------------------------------------------------------------------------------------------------------------------------------------------------\n"
     ]
    }
   ],
   "source": [
    "i = 0\n",
    "for _, row in df.iterrows():\n",
    "    _, article, _ = row\n",
    "    if '2020 election' in str(article).lower() and len(article.split()) <= 200:\n",
    "        try:\n",
    "            print(article)\n",
    "            print('-' * 200)\n",
    "            i += 1\n",
    "            if i == 10:\n",
    "                break \n",
    "        except:\n",
    "            pass\n",
    "    \n",
    "\n",
    "    "
   ]
  },
  {
   "cell_type": "code",
   "execution_count": null,
   "id": "13da81ce-e216-4bf0-a50d-dcd472f7dc4b",
   "metadata": {},
   "outputs": [],
   "source": []
  },
  {
   "cell_type": "code",
   "execution_count": null,
   "id": "4adffefa-b55a-459b-a06e-af1ffa2a1855",
   "metadata": {},
   "outputs": [],
   "source": []
  },
  {
   "cell_type": "code",
   "execution_count": null,
   "id": "1cbbb8f9-1f45-4af4-b2e7-f871cf7d1018",
   "metadata": {},
   "outputs": [],
   "source": []
  }
 ],
 "metadata": {
  "instance_type": "ml.m5.4xlarge",
  "kernelspec": {
   "display_name": "Python 3 (Data Science)",
   "language": "python",
   "name": "python3__SAGEMAKER_INTERNAL__arn:aws:sagemaker:us-east-1:081325390199:image/datascience-1.0"
  },
  "language_info": {
   "codemirror_mode": {
    "name": "ipython",
    "version": 3
   },
   "file_extension": ".py",
   "mimetype": "text/x-python",
   "name": "python",
   "nbconvert_exporter": "python",
   "pygments_lexer": "ipython3",
   "version": "3.7.10"
  }
 },
 "nbformat": 4,
 "nbformat_minor": 5
}
