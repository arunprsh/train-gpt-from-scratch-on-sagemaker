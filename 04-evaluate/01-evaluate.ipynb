{
 "cells": [
  {
   "cell_type": "markdown",
   "id": "dc16134f-3856-4522-9ad9-e6d016f99834",
   "metadata": {},
   "source": [
    "#### Prerequisites"
   ]
  },
  {
   "cell_type": "code",
   "execution_count": null,
   "id": "6ea9fe73-9cf3-4cbb-819f-5185e3411ac8",
   "metadata": {},
   "outputs": [],
   "source": [
    "%%capture \n",
    "\n",
    "!pip install transformers==4.18.0\n",
    "!pip install datasets==2.4.0"
   ]
  },
  {
   "cell_type": "markdown",
   "id": "bc64d1a7-d900-4475-b9e3-122221b0eb60",
   "metadata": {},
   "source": [
    "### Imports "
   ]
  },
  {
   "cell_type": "code",
   "execution_count": 2,
   "id": "8a84dbb8-33ac-4732-bca8-280d62344a2e",
   "metadata": {},
   "outputs": [],
   "source": [
    "from transformers import GPT2LMHeadModel\n",
    "from transformers import GPT2Tokenizer\n",
    "from transformers import pipeline\n",
    "from datasets import load_metric \n",
    "import transformers\n",
    "import pandas as pd\n",
    "import datasets\n",
    "import logging"
   ]
  },
  {
   "cell_type": "code",
   "execution_count": 3,
   "id": "b0c0d1a0-6347-4bbc-a5c0-6d214dff2a56",
   "metadata": {
    "tags": []
   },
   "outputs": [],
   "source": [
    "pd.options.display.max_colwidth = 100"
   ]
  },
  {
   "cell_type": "markdown",
   "id": "1e284a2d-8a21-44d8-995a-3006d8e89cfb",
   "metadata": {},
   "source": [
    "##### Setup logging"
   ]
  },
  {
   "cell_type": "code",
   "execution_count": 4,
   "id": "ea82ae8c-9fbb-47c5-ba67-7b45ff865310",
   "metadata": {},
   "outputs": [],
   "source": [
    "logger = logging.getLogger('sagemaker')\n",
    "logger.setLevel(logging.DEBUG)\n",
    "logger.addHandler(logging.StreamHandler())"
   ]
  },
  {
   "cell_type": "markdown",
   "id": "002200c9-9ce4-4a40-ab9f-0e2088e3717c",
   "metadata": {},
   "source": [
    "##### Log versions of dependencies "
   ]
  },
  {
   "cell_type": "code",
   "execution_count": 5,
   "id": "39e423fc-add8-4eb6-ab7d-d95f865584a0",
   "metadata": {},
   "outputs": [
    {
     "name": "stderr",
     "output_type": "stream",
     "text": [
      "[Using transformers: 4.18.0]\n",
      "[Using datasets: 2.4.0]\n"
     ]
    }
   ],
   "source": [
    "logger.info(f'[Using transformers: {transformers.__version__}]')\n",
    "logger.info(f'[Using datasets: {datasets.__version__}]')"
   ]
  },
  {
   "cell_type": "markdown",
   "id": "31d6da77-0be3-4528-ae43-d427812e9082",
   "metadata": {},
   "source": [
    "### Copy candidate models from S3 to local for evaluation "
   ]
  },
  {
   "cell_type": "code",
   "execution_count": null,
   "id": "721b1224-61e2-4f0e-b9c4-a15ba35f233d",
   "metadata": {
    "tags": []
   },
   "outputs": [],
   "source": [
    "!aws s3 cp s3://sagemaker-us-east-1-119174016168/model/custom/ ./models/pretrained-from-scratch/ --recursive"
   ]
  },
  {
   "cell_type": "markdown",
   "id": "c68ec843-b0c7-4268-80bd-351f2419773b",
   "metadata": {},
   "source": [
    "### Load candidate models for evaluation "
   ]
  },
  {
   "cell_type": "markdown",
   "id": "a4f49ac6-3af7-4d39-80df-67b4b2da82ed",
   "metadata": {},
   "source": [
    "##### Load Out-of-the-box (OOB) GPT2"
   ]
  },
  {
   "cell_type": "code",
   "execution_count": 6,
   "id": "a0efffbd-a961-42e7-b116-a7b726b024f4",
   "metadata": {
    "tags": []
   },
   "outputs": [],
   "source": [
    "oob_gpt2 = pipeline('text-generation', model='gpt2')"
   ]
  },
  {
   "cell_type": "markdown",
   "id": "479ddd4c-ce05-4df4-a8d0-c685762bd0ba",
   "metadata": {},
   "source": [
    "##### Load OOB GPT2 fine-tuned on covid news articles "
   ]
  },
  {
   "cell_type": "code",
   "execution_count": null,
   "id": "356c4276-5805-48a1-8a5b-7b73788658d9",
   "metadata": {},
   "outputs": [],
   "source": []
  },
  {
   "cell_type": "markdown",
   "id": "41369669-09f3-445e-90be-209c7b6566fe",
   "metadata": {},
   "source": [
    "##### Load custom GPT2 further pre-trained (trained from scratch) on covid news articles "
   ]
  },
  {
   "cell_type": "code",
   "execution_count": 7,
   "id": "98daefa5-02b7-4a60-b683-1e04185e313e",
   "metadata": {
    "tags": []
   },
   "outputs": [],
   "source": [
    "custom_gpt2 = pipeline('text-generation', model='./models/pretrained-from-scratch/')"
   ]
  },
  {
   "cell_type": "markdown",
   "id": "fc8004d5-e48c-4999-bfb5-3a2577a5606d",
   "metadata": {},
   "source": [
    "### Evaluate reference articles againsts the candidate models"
   ]
  },
  {
   "cell_type": "code",
   "execution_count": 8,
   "id": "248a0370-4501-4f63-b282-12fbdda770ee",
   "metadata": {
    "tags": []
   },
   "outputs": [
    {
     "data": {
      "text/html": [
       "<div>\n",
       "<style scoped>\n",
       "    .dataframe tbody tr th:only-of-type {\n",
       "        vertical-align: middle;\n",
       "    }\n",
       "\n",
       "    .dataframe tbody tr th {\n",
       "        vertical-align: top;\n",
       "    }\n",
       "\n",
       "    .dataframe thead th {\n",
       "        text-align: right;\n",
       "    }\n",
       "</style>\n",
       "<table border=\"1\" class=\"dataframe\">\n",
       "  <thead>\n",
       "    <tr style=\"text-align: right;\">\n",
       "      <th></th>\n",
       "      <th>reference_article</th>\n",
       "      <th>prompt</th>\n",
       "    </tr>\n",
       "  </thead>\n",
       "  <tbody>\n",
       "    <tr>\n",
       "      <th>0</th>\n",
       "      <td>On Tuesday, Dr. Fauci and other health officials testified before the U.S. House Energy and Comm...</td>\n",
       "      <td>On Tuesday, Dr. Fauci and other health officials</td>\n",
       "    </tr>\n",
       "    <tr>\n",
       "      <th>1</th>\n",
       "      <td>Pfizer Inc. on Wednesday reported results from two late-stage studies ahead of schedule as it pu...</td>\n",
       "      <td>Pfizer Inc. on Wednesday reported results</td>\n",
       "    </tr>\n",
       "    <tr>\n",
       "      <th>2</th>\n",
       "      <td>President Donald Trump said the U.S. has the outbreak of the coronavirus under control and has b...</td>\n",
       "      <td>President Donald Trump said the U.S. has the outbreak</td>\n",
       "    </tr>\n",
       "    <tr>\n",
       "      <th>3</th>\n",
       "      <td>President Joe Biden has signed a flurry of executive orders, actions and memorandums aimed at ra...</td>\n",
       "      <td>President Joe Biden has signed a flurry of executive orders</td>\n",
       "    </tr>\n",
       "    <tr>\n",
       "      <th>4</th>\n",
       "      <td>China is effectively in a lockdown. From big cities to little villages, almost every community i...</td>\n",
       "      <td>China is effectively in a lockdown.</td>\n",
       "    </tr>\n",
       "    <tr>\n",
       "      <th>5</th>\n",
       "      <td>Australian biotech Mesoblast has been riding high on expectations for its COVID-19 treatment, li...</td>\n",
       "      <td>Australian biotech Mesoblast has been riding high on expectations for its</td>\n",
       "    </tr>\n",
       "    <tr>\n",
       "      <th>6</th>\n",
       "      <td>The December, 2019 coronavirus disease outbreak has seen many countries ask people who have pote...</td>\n",
       "      <td>The December, 2019 coronavirus disease outbreak has seen many countries ask people who have pote...</td>\n",
       "    </tr>\n",
       "    <tr>\n",
       "      <th>7</th>\n",
       "      <td>The first confirmed case of coronavirus in India was reported today ( Jan. 30) in the southern s...</td>\n",
       "      <td>The first confirmed case of coronavirus in India was</td>\n",
       "    </tr>\n",
       "  </tbody>\n",
       "</table>\n",
       "</div>"
      ],
      "text/plain": [
       "                                                                                     reference_article  \\\n",
       "0  On Tuesday, Dr. Fauci and other health officials testified before the U.S. House Energy and Comm...   \n",
       "1  Pfizer Inc. on Wednesday reported results from two late-stage studies ahead of schedule as it pu...   \n",
       "2  President Donald Trump said the U.S. has the outbreak of the coronavirus under control and has b...   \n",
       "3  President Joe Biden has signed a flurry of executive orders, actions and memorandums aimed at ra...   \n",
       "4  China is effectively in a lockdown. From big cities to little villages, almost every community i...   \n",
       "5  Australian biotech Mesoblast has been riding high on expectations for its COVID-19 treatment, li...   \n",
       "6  The December, 2019 coronavirus disease outbreak has seen many countries ask people who have pote...   \n",
       "7  The first confirmed case of coronavirus in India was reported today ( Jan. 30) in the southern s...   \n",
       "\n",
       "                                                                                                prompt  \n",
       "0                                                     On Tuesday, Dr. Fauci and other health officials  \n",
       "1                                                            Pfizer Inc. on Wednesday reported results  \n",
       "2                                                President Donald Trump said the U.S. has the outbreak  \n",
       "3                                          President Joe Biden has signed a flurry of executive orders  \n",
       "4                                                                  China is effectively in a lockdown.  \n",
       "5                            Australian biotech Mesoblast has been riding high on expectations for its  \n",
       "6  The December, 2019 coronavirus disease outbreak has seen many countries ask people who have pote...  \n",
       "7                                                 The first confirmed case of coronavirus in India was  "
      ]
     },
     "execution_count": 8,
     "metadata": {},
     "output_type": "execute_result"
    }
   ],
   "source": [
    "ref_df = pd.read_csv('./data/test_articles.csv', names=['reference_article', 'prompt'])\n",
    "ref_df"
   ]
  },
  {
   "cell_type": "code",
   "execution_count": 9,
   "id": "3fa26591-e0d6-465d-a4b5-4a98471d493b",
   "metadata": {
    "tags": []
   },
   "outputs": [
    {
     "data": {
      "text/plain": [
       "'On Tuesday, Dr. Fauci and other health officials testified before the U.S. House Energy and Commerce Committee to discuss how the administration has been handling the coronavirus outbreak. Yahoo Finance’s Anjalee Khemlani breaks down the latest news about the coronavirus on The Final Round.'"
      ]
     },
     "execution_count": 9,
     "metadata": {},
     "output_type": "execute_result"
    }
   ],
   "source": [
    "ref_df['reference_article'][0]"
   ]
  },
  {
   "cell_type": "code",
   "execution_count": 10,
   "id": "4dd82cf9-6f5c-49bf-beec-dc0262849960",
   "metadata": {
    "tags": []
   },
   "outputs": [
    {
     "name": "stderr",
     "output_type": "stream",
     "text": [
      "Setting `pad_token_id` to `eos_token_id`:0 for open-end generation.\n"
     ]
    },
    {
     "name": "stdout",
     "output_type": "stream",
     "text": [
      "[2023-01-26 03:32:08.240 pytorch-1-8-gpu-py3-ml-g4dn-xlarge-60bd0d07a83be181dcf7335baae2:3606 INFO utils.py:27] RULE_JOB_STOP_SIGNAL_FILENAME: None\n",
      "[2023-01-26 03:32:08.273 pytorch-1-8-gpu-py3-ml-g4dn-xlarge-60bd0d07a83be181dcf7335baae2:3606 INFO profiler_config_parser.py:102] Unable to find config at /opt/ml/input/config/profilerconfig.json. Profiler is disabled.\n"
     ]
    },
    {
     "name": "stderr",
     "output_type": "stream",
     "text": [
      "Setting `pad_token_id` to `eos_token_id`:50256 for open-end generation.\n",
      "Setting `pad_token_id` to `eos_token_id`:0 for open-end generation.\n"
     ]
    },
    {
     "name": "stdout",
     "output_type": "stream",
     "text": [
      "Prompt: On Tuesday, Dr. Fauci and other health officials\n",
      "\n",
      "Ref article: On Tuesday, Dr. Fauci and other health officials testified before the U.S. House Energy and Commerce Committee to discuss how the administration has been handling the coronavirus outbreak. Yahoo Finance’s Anjalee Khemlani breaks down the latest news about the coronavirus on The Final Round.\n",
      "\n",
      "Custom GPT2 Response: On Tuesday, Dr. Fauci and other health officials in the city of tulsa have been working to develop a covid-19 testing site for residents who are asymptomatic or had mild symptoms but do not require hospitalization due directly by their employer ( e) - they will be tested at least once every two weeks starting on mondayth june 1st with results expected within 24 hours after that date; this is an important step towards reopening oklahoma’ s economy as it begins its phased reemergence from lockdown measures following months when cases were still low comparedwith many states across america where new infections began rising rapidly again during may/june 2020).the first phase involves screening all visitors entering greenwood avenue through temperature checks before arriving home via mobile phone app upon arrival into vernon ave., which has also begun using thermal imaging cameras throughout campus buildings since late april 2021 – including those without any prior medical history such patients could potentially transmit coronavirus infection if there was no fever present inside these facilities until further notice while awaiting test result determinations: “ we want our community members back safely! ” said dr michael tildesley jr.. he added `` i am very excited about what's happening here today because people can get out more quickly than ever right now... ''   mayoryaleh johnson told reporters earlier tuesday morning she would like everyone involved -- especially young adults — access tests free immediately so others don't miss work unless required quarantine periods extend beyond 14 days depending how long someone lives alone indoors versus outdoors?   \n",
      "\n",
      "OOB GPT2 Response: On Tuesday, Dr. Fauci and other health officials said they were investigating the case as a possible suicide attempt by an employee of one company's medical marijuana dispensary in San Francisco who was found dead on Monday morning at his home near Westlake Park Boulevard just before midnight (7:30 p.)\n",
      "\"We are still looking into this,\" he told reporters after meeting with police officers from both agencies Wednesday afternoon to discuss what happened that night outside their office building where two employees had been killed earlier today when gunfire erupted inside.\"The investigation is ongoing but we have no further information yet about any potential motive for these deaths or why it took place here so early last week,'' she added Thursday evening during her weekly news conference announcing new guidelines regarding how dispensaries should operate under California law.''\n",
      "--------------------------------------------------------------------------------------------------------------------------------------------------------------------------------------------------------\n"
     ]
    },
    {
     "name": "stderr",
     "output_type": "stream",
     "text": [
      "Setting `pad_token_id` to `eos_token_id`:50256 for open-end generation.\n",
      "Setting `pad_token_id` to `eos_token_id`:0 for open-end generation.\n"
     ]
    },
    {
     "name": "stdout",
     "output_type": "stream",
     "text": [
      "Prompt: Pfizer Inc. on Wednesday reported results\n",
      "\n",
      "Ref article: Pfizer Inc. on Wednesday reported results from two late-stage studies ahead of schedule as it put off its March 31 investor day amid the coronavirus outbreak. The drugmaker said its experimental treatment, abrocitinib, was effective in treating atopic dermatitis in combination with topical therapies in a late-stage study. In addition, it also reported positive top-line results from another late-stage study testing its pneumococcal conjugate vaccine candidate in adults 18 years of age or older not previously vaccinated against pneumococcal disease, a type of bacterial infection.\n",
      "\n",
      "Custom GPT2 Response: Pfizer Inc. on Wednesday reported results for the first quarter of 2020, which ended march 31st and is now expected to be down around 30% year-over‑year ( yoy).the company’ s revenues were $ 1 billion in q1fy20 compared with revenue growth rate at 5%.notablyin its earnings call last week management noted that it had seen a decline across all regions during april due primarily from covid19 impacts as wellas weakness within certain markets like europe where activity has been impacted by lockdown measures imposed since mid–march leading upto this period's end date; however these trends have continued into may & june despite some easing restrictions being eased over several weeks following their initial relaxation phase through july 4th..moreover though there are signs emerging regarding recovery momentum among various industries including retail/wholesale sectors such hotels / restaurants etc., we believe investors should remain cautious given uncertainties surrounding economic conditions amid coronavirus pandemic situation while also considering how long they will take until normalcy returns or if new outbreaks occur globally.?zacks rank # 3a: nobuyoutcurrently traded under zacks ranksnearby currently carries an average positive estimate revision scoreof 2 out past 7 days against none other stocks trading below 10x estimated eps estimatesfor fiscal 2021 ending mar 27nd2020we expect shares issued before dec 28rd based only upon current share price performance but not necessarily reflecting investor sentiment towards any future stock market movementsavnorfolk international group inc.’ ll beat consensus markup\n",
      "\n",
      "OOB GPT2 Response: Pfizer Inc. on Wednesday reported results of a study that found the number one cause for concern among children is obesity, with an estimated 1 in 5 adults having at least some type 2 diabetes or high blood pressure (HBP).\n",
      "\"The most common reason people are overweight and obese has been smoking,\" said Dr David Hirschfeld from Harvard Medical School's Department Of Public Health who led research into this issue last year as part to understand why so many Americans have trouble getting enough exercise during their lives.\"We know there may be other factors contributing [to] weight gain but we don't yet fully address it because our data do not support any specific causes such like heart disease nor cancer risk associated by these medications alone,\" he added. \"This new report shows how important diet can be when you're trying hard every day without losing your appetite due either excessive sugar intake through overeating too much food over time?\"\n",
      "--------------------------------------------------------------------------------------------------------------------------------------------------------------------------------------------------------\n"
     ]
    },
    {
     "name": "stderr",
     "output_type": "stream",
     "text": [
      "Setting `pad_token_id` to `eos_token_id`:50256 for open-end generation.\n",
      "Setting `pad_token_id` to `eos_token_id`:0 for open-end generation.\n"
     ]
    },
    {
     "name": "stdout",
     "output_type": "stream",
     "text": [
      "Prompt: President Donald Trump said the U.S. has the outbreak\n",
      "\n",
      "Ref article: President Donald Trump said the U.S. has the outbreak of the coronavirus under control and has been briefed by the Centers for Disease Control and Prevention. Speaking to CNBC, Trump said he wasn't worried it would turn into a pandemic and said the only person infected had flown in from China. He repeated his view that the impeachment is a hoax. Trump batted away a question on whether the Fed's balance sheet was the prime reason for the stock-market SPX, +2.64% gains. He said Fed interest rates should still go lower because the dollar DXY, -0.19% is strong.\n",
      "\n",
      "Custom GPT2 Response: President Donald Trump said the U.S. has the outbreak of covid-19 in france? or is it a new disease that will be with us for some time to come, and which we can not afford now.? ” “ i’ m very concerned about this virus because there are so many people who have been infected but don't show any symptoms at all... they're still being treated as if nothing happened; their bodies aren ` t functioning properly’’ [ sic ]..they've got no idea what's going on right here.... you know how much damage was done by these patients when those were taken away from them during an emergency like ebola where doctors had just started giving antibiotics…it doesnt seem fair enough yet why would anyone want such treatment….i think everyone should take precautions against coronavirus infection until vaccines become available - even though nobody knows exactly whether one vaccine works well today ( https: //www1beckerlink/newspapers/? id=154847) & then get vaccinated! '' `` he added.’’the situation could worsen again soon after christmas eve due mainly back home residents may also face more restrictions than usual over winter holidays given rising case numbers across europe * spain reported its highest number since early march last week while italy saw cases rise sharply earlier amid holiday travel curbs between regions milanandromeaustinhesisanisinancenariodetention rate per 100k inhabitants increased slightly comparedwith previous weeks romenew infections rose steadily throughout\n",
      "\n",
      "OOB GPT2 Response: President Donald Trump said the U.S. has the outbreak of Ebola in West Africa \"very, very serious.\"\n",
      " (Reuters)\n",
      "\n",
      ": In a statement released by his office on Friday morning, President Barack Obama called for an immediate halt to all aid deliveries from countries affected and urged people who have been sick or injured as they travel abroad — including those with no medical need – to seek treatment at home before returning back into their homes. The White House also issued another call Thursday evening urging Americans traveling overseas not only be prepared but encouraged them if possible because it is believed that some are infected while others may die after being exposed during transport through crowded airports.\"The United States will continue its efforts against this deadly disease,\" he added,\"and we urge our partners around Europe...to take steps now so these individuals can return safely.\"\"We're going forward today -- I'm calling you tonight - where there's still time,'' Mr Bush told reporters aboard Air Force One when asked about what was happening next week near Sierra Leone following reports last month suggesting more than 1 million had died due both direct contact between air traffic controllers working together under one command system over Guinea-Bissau International Airport & Liberia airport; two other cases were reported earlier Wednesday night ; three additional deaths occurred Tuesday afternoon along Interstate 5 off Highway 101 northbound across Frome County southward toward Kinshasa State Park;\"I am asking my colleagues here tomorrow whether any American citizens should ever leave America without proper authorization... We must do everything within\n",
      "--------------------------------------------------------------------------------------------------------------------------------------------------------------------------------------------------------\n"
     ]
    },
    {
     "name": "stderr",
     "output_type": "stream",
     "text": [
      "Setting `pad_token_id` to `eos_token_id`:50256 for open-end generation.\n",
      "Setting `pad_token_id` to `eos_token_id`:0 for open-end generation.\n"
     ]
    },
    {
     "name": "stdout",
     "output_type": "stream",
     "text": [
      "Prompt: President Joe Biden has signed a flurry of executive orders\n",
      "\n",
      "Ref article: President Joe Biden has signed a flurry of executive orders, actions and memorandums aimed at rapidly addressing the coronavirus pandemic and dismantling many of President Donald Trump's policies. The 30 executive actions Biden has taken in the first days of his administration include halting funding for the construction of Trump's border wall, reversing Trump's travel ban targeting largely Muslim countries, imposing a mask mandate on federal property, ramping up vaccination supplies and requiring international travelers to provide proof of a negative Covid-19 test prior to traveling to the US\n",
      "\n",
      "Custom GPT2 Response: President Joe Biden has signed a flurry of executive orders to promote the rights and freedoms that are guaranteed by law in his home country. he is also seeking an injunction against any attempt at “ expropriation ” or confiscating property, including those owned under state-owned enterprises ( soes) controlled jointly with private equity firms such as blackstone group inc., carlyle international ltd.’ s global real estate fund lp’ dba partners llc; brookfield asset management corp.; providence investments limited partnership ii plc ; liberty mutual holding company iii capital corporation); apollo investment advisers l & t securities co.'s us $ 1 billion acquisition subsidiary athene holdings bkhh • mr justice john moulton jr.• president joe biden's nominee for secretary general antónio guterres• former ulyssentiary director robert f kennedy shriver national security adviser on human trafficking: james crombie * sayed zakariavich picadoro/getty images   more from deadline this week we will be hearing about how far it goes before congress passes legislation aimed squarely towards protecting americans who have been victims during covid 19 pandemic lockdowns — but what does all these efforts mean? here again i am going back into my own personal life where there was no choice between saving lives while being able not only survive through economic hardship without losing loved ones like myself …but then you can save your family forever…and now when things get tough enough people need help making ends meet – whether they're working full time hours because their children aren't getting school\n",
      "\n",
      "OOB GPT2 Response: President Joe Biden has signed a flurry of executive orders to address the nation's opioid crisis.\n",
      " (Photo: AP) Story Highlights The White House says it will not sign any new opioids legislation until after Congress passes them, but that \"the president is committed\" and he'll work with lawmakers on how best they can do so in his first 100 days as President-elect Trump takes office Jan 20th\n",
      "\n",
      "\n",
      "\n",
      "--------------------------------------------------------------------------------------------------------------------------------------------------------------------------------------------------------\n"
     ]
    },
    {
     "name": "stderr",
     "output_type": "stream",
     "text": [
      "Setting `pad_token_id` to `eos_token_id`:50256 for open-end generation.\n",
      "Setting `pad_token_id` to `eos_token_id`:0 for open-end generation.\n"
     ]
    },
    {
     "name": "stdout",
     "output_type": "stream",
     "text": [
      "Prompt: China is effectively in a lockdown.\n",
      "\n",
      "Ref article: China is effectively in a lockdown. From big cities to little villages, almost every community is under quarantine to a varying degree, or at least faces some travel restrictions. There is little information on how long this will last. One thing for sure is that the government is willing to keep the country in lockdown until the virus outbreak comes under control. A government mobilisation on this scale is unprecedented.\n",
      "\n",
      "Custom GPT2 Response: China is effectively in a lockdown. the company has been forced to close its stores and furlough staff, while it continues with online sales for essentials such as food delivery services that have seen an increase during covid-19 lockdowns across europe. “ we are seeing increased demand from our customers who want us more than ever before so they can shop at home or pick up their groceries on amazon fresh every day without leaving any time limit ”, said ceo nisha varma earlier this month, adding: ‘ there’ s no doubt about how important grocery shopping will be’. ” read : coronavirus pandemic could wipe out entire industries — but not just retail analysts also speaking of what she called her biggest challenge since march 2020 was managing through uncertainty around brexit negotiations between britain ( eu) member states over post–brexit trade arrangements which were due last year when both sides agreed upon free movement agreement by december 2019 following months spent negotiating terms under one another ahead then known collectively among themselves after each other had failed spectacularly until now.. however recently trading conditions appear set back those plans again given concerns regarding potential disruption caused partly because uk retailers face huge tariffs imposed if goods go into customs illegally within northern ireland -- something many fear would lead them astray even further down supply chains already struggling amid global shortages related issues including hgv driver shortage | source - bloomberg meanwhile tesco plc chief financial officer vanessa hudson told marketwatch via telephone thursday morning he expected shoppers looking forward `` towards christmas '' next week despite rising costs associated specifically against fuel prices linked directly together like beef r\n",
      "\n",
      "OOB GPT2 Response: China is effectively in a lockdown.\n",
      "\"We are not going to let them go,\" said the minister of state for foreign affairs, who asked that his name be withheld because he was unable or unwilling on condition it would only come out publicly and without any further comment from him.\"The government has been trying very hard since last year with its own security forces but they have failed miserably at this point so far... We will continue our efforts until we get there\", added Mr Gao's spokesman Li Keqiang. \"It seems like China wants us all dead\".\n",
      "--------------------------------------------------------------------------------------------------------------------------------------------------------------------------------------------------------\n"
     ]
    },
    {
     "name": "stderr",
     "output_type": "stream",
     "text": [
      "Setting `pad_token_id` to `eos_token_id`:50256 for open-end generation.\n",
      "Setting `pad_token_id` to `eos_token_id`:0 for open-end generation.\n"
     ]
    },
    {
     "name": "stdout",
     "output_type": "stream",
     "text": [
      "Prompt: Australian biotech Mesoblast has been riding high on expectations for its\n",
      "\n",
      "Ref article: Australian biotech Mesoblast has been riding high on expectations for its COVID-19 treatment, licensed to Novartis, but fell back to Earth after it said a phase 3 trial of the cell therapy was a bust. Shares in the stem cell specialist on the ASX lost more than a third of their value after data experts said the study of remestemcel-L in ventilator-dependent patients with moderate to severe acute respiratory distress syndrome ( ARDS) due to COVID-19 was unlikely to show a benefit. Mesoblast said the trial could have been affected by improvements in the care of COVID-19 patients over the last few months, as doctors gathered experience in treating the disease. That included the use of experimental drugs like dexamethasone and Gilead’ s antiviral Veklury (remdesivir).\n",
      "\n",
      "Custom GPT2 Response: Australian biotech Mesoblast has been riding high on expectations for its covid-19 vaccine. the company’ s shares have soared more than 60% since mid march, and are now trading at $ 10 a share—a price that is close to what it was when they were first listed in 2012 ( see chart below). but as barron's reported last week, moderna stock fell sharply after an analyst warned of disappointing data from early trials testing mrna vaccines against sars cov2. “ we think this could be one area where investors can get some comfort with how quickly things might turn out over time if there really isn't any real news about efficacy or safety issues around these candidates being tested [ by ] other companies,’ ” says svb leerink analysts ledby porges who initiated coverage tuesday morning following their report: while many biotechs expect results soon enough so far —and even then; pfizer/biontech se bntx recently said monday evening preliminary phase 3 trial showed 95 cases among participants given two doses spaced three weeks apart ended up not getting sick.) still others say those numbers will likely drop off later next year because researchers don´t know whether people develop immunity through vaccination alone like most adults do either way yet.. read also : biontech ceo ugur sahin tells marketwatch he expects ‘ significant breakthrough ’ within months meanwhile inovio pharmaceuticals ino announced interim analysis showing 94 coronavirus patients developed antibodies capable only four days postvaccination comparedwith six recipients receiving placebo shots across all eight cohorts studied thusfar -- though no serious adverse events occurred during treatment groups 1\n",
      "\n",
      "OOB GPT2 Response: Australian biotech Mesoblast has been riding high on expectations for its next generation of genetically engineered crops.\n",
      ", which is expected to be ready by the end this year and will have a range from 1-2 hectares (4 acres) in size with an average yield between 2% - 4%. The company's latest crop was developed at Monsanto Labs' headquarters near San Francisco where it had previously worked as part time research scientist before moving into production operations last summer after being acquired jointly through Merck & Co., Bayer AG, Syngenta Inc.and DuPont Plc Ltd..\n",
      "--------------------------------------------------------------------------------------------------------------------------------------------------------------------------------------------------------\n"
     ]
    },
    {
     "name": "stderr",
     "output_type": "stream",
     "text": [
      "Setting `pad_token_id` to `eos_token_id`:50256 for open-end generation.\n",
      "Setting `pad_token_id` to `eos_token_id`:0 for open-end generation.\n"
     ]
    },
    {
     "name": "stdout",
     "output_type": "stream",
     "text": [
      "Prompt: The December, 2019 coronavirus disease outbreak has seen many countries ask people who have potentially come into contact with the infection to isolate themselves\n",
      "\n",
      "Ref article: The December, 2019 coronavirus disease outbreak has seen many countries ask people who have potentially come into contact with the infection to isolate themselves at home or in a dedicated quarantine facility. Decisions on how to apply quarantine should be based on the best available evidence. This review of the psychological impact of quarantine using three electronic databases. Of 3166 papers found, 24 are included in this Review. Most reviewed studies reported negative psychological effects including post-traumatic stress symptoms, confusion, and anger. Stressors included longer quarantine duration, infection fears, frustration, boredom, inadequate supplies, inadequate information, financial loss, and stigma.\n",
      "\n",
      "Custom GPT2 Response: The December, 2019 coronavirus disease outbreak has seen many countries ask people who have potentially come into contact with the infection to isolate themselves. this is a very difficult situation for everyone involved in public health and social care as well because of how quickly we can get information out about what's happening on our own front line so that they know exactly where it came from or whether there was any transmission occurring at all during their stay-at home period ( eac).the world needs more accurate data now than ever before which will help us better understand why some individuals are getting infected while others aren't showing symptoms yet but still remain vulnerable if exposed by someone else - including those without underlying medical conditions such asthma etc.. https: //tbinternetint/p5q8gs1rwm9zx6 — jeremy vine⁠️🌈⚫🇷🏼‍💙👏https : @ dailymailuk # covid19 pic....twitter·com//s3hw7r4g0c2kf -- ian mitchell‬ 🎉 ⁦𝐧条 🇪� ™ 🚨our team members around europe were working hard behind closed doors today! 👇breaking news 💛pic = 'we're going back full speed ': boris johnson says he won’ t be attending next week pm tells uk government not attended events after ‘ serious concerns’, reports * tory mp admits she had been told her party took\n",
      "\n",
      "OOB GPT2 Response: The December, 2019 coronavirus disease outbreak has seen many countries ask people who have potentially come into contact with the infection to isolate themselves.\n",
      " (Photo: Getty Images) Story Highlights The virus is spread by mosquitoes and can be transmitted through direct touch or saliva from infected individuals in a person's mouth; it also causes diarrhea that lasts for days after exposure\n",
      "\n",
      "\n",
      "--------------------------------------------------------------------------------------------------------------------------------------------------------------------------------------------------------\n"
     ]
    },
    {
     "name": "stderr",
     "output_type": "stream",
     "text": [
      "Setting `pad_token_id` to `eos_token_id`:50256 for open-end generation.\n"
     ]
    },
    {
     "name": "stdout",
     "output_type": "stream",
     "text": [
      "Prompt: The first confirmed case of coronavirus in India was\n",
      "\n",
      "Ref article: The first confirmed case of coronavirus in India was reported today ( Jan. 30) in the southern state of Kerala. The patient, a female student at Wuhan University in China, tested positive for the novel coronavirus after returning to Kerala. Kerala health minister KK Shailaja has called an emergency meeting at 3pm.\n",
      "\n",
      "Custom GPT2 Response: The first confirmed case of coronavirus in India was the second person to die from covid-19. he had been admitted on march 26th, and died at a hospital where his family lives with him after contracting it while working as an emergency room doctor for two years before being discharged last week ( april 1st).the death has prompted tributes across social media platforms including twitter twtr which said that mr cassidy’ s wife is now “ well enough ” but did not specify how many people were affected by their illness or who they believed might have contracted them.) one tweeter wrote: `` i'm sorry my husband's passing will be too much... '' another tweeted about her father saying she felt like someone else should take care when others are dying because there aren't any beds available; this comment came just hours later than initially stated due partly owing largely solely upon its accuracy – although some tweets attributed ms hurley unfavourably towards health officials reporting deaths related specifically during lockdown periods such cases would appear more accurate if you included mentions made earlier today rather then again tomorrow morning! https//news/2020122917 # stayathome pic..twitter·com /vqxgz8r9l4 — cllrrp & @ drdphsuk⁠ ⁦🇺🌈⚡️💪🏼‍👏😂https% 3a7ktrdate accessed 5 may 2020 11h20 gmt - dominic raab told bbc radio 4′n\n",
      "\n",
      "OOB GPT2 Response: The first confirmed case of coronavirus in India was reported on April 6, 2014. The virus is spread through contact with saliva and blood from infected people or animals that have been exposed to it during pregnancy.\"\n",
      "\"It's a very rare disease,\" said Dr Rajesh Kumar Gupta-Kumar at the National Institute for Infectious Diseases (NIAID). \"We don't know if this infection has any effect but we are seeing cases now across all parts where there were no previous reports before today\".\n",
      "--------------------------------------------------------------------------------------------------------------------------------------------------------------------------------------------------------\n"
     ]
    }
   ],
   "source": [
    "for _, row in ref_df.iterrows():\n",
    "    ref_article, prompt = row\n",
    "    custom_gpt2_response = custom_gpt2(prompt, num_return_sequences=1, max_length=300, repetition_penalty=10.0, top_k=1, top_p=1.0)[0]['generated_text']\n",
    "    oob_gpt2_response = oob_gpt2(prompt, num_return_sequences=1, max_length=300, repetition_penalty=10.0, top_k=1, top_p=1.0)[0]['generated_text']\n",
    "    print(f'Prompt: {prompt}')\n",
    "    print()\n",
    "    print(f'Ref article: {ref_article}')\n",
    "    print()\n",
    "    print(f'Custom GPT2 Response: {custom_gpt2_response}')\n",
    "    print()\n",
    "    print(f'OOB GPT2 Response: {oob_gpt2_response}')\n",
    "    print('-' * 200)"
   ]
  },
  {
   "cell_type": "code",
   "execution_count": null,
   "id": "6fdaf1b4-700d-4d9f-9a87-81ffc31b4b64",
   "metadata": {},
   "outputs": [],
   "source": []
  }
 ],
 "metadata": {
  "instance_type": "ml.g4dn.xlarge",
  "kernelspec": {
   "display_name": "Python 3 (PyTorch 1.8 Python 3.6 GPU Optimized)",
   "language": "python",
   "name": "python3__SAGEMAKER_INTERNAL__arn:aws:sagemaker:us-east-1:081325390199:image/pytorch-1.8-gpu-py36"
  },
  "language_info": {
   "codemirror_mode": {
    "name": "ipython",
    "version": 3
   },
   "file_extension": ".py",
   "mimetype": "text/x-python",
   "name": "python",
   "nbconvert_exporter": "python",
   "pygments_lexer": "ipython3",
   "version": "3.6.13"
  }
 },
 "nbformat": 4,
 "nbformat_minor": 5
}
