{
 "cells": [
  {
   "cell_type": "markdown",
   "id": "dc16134f-3856-4522-9ad9-e6d016f99834",
   "metadata": {},
   "source": [
    "#### Prerequisites"
   ]
  },
  {
   "cell_type": "code",
   "execution_count": 2,
   "id": "6ea9fe73-9cf3-4cbb-819f-5185e3411ac8",
   "metadata": {},
   "outputs": [],
   "source": [
    "%%capture \n",
    "\n",
    "!pip install transformers==4.18.0\n",
    "!pip install datasets==2.4.0"
   ]
  },
  {
   "cell_type": "markdown",
   "id": "bc64d1a7-d900-4475-b9e3-122221b0eb60",
   "metadata": {},
   "source": [
    "### Imports "
   ]
  },
  {
   "cell_type": "code",
   "execution_count": 3,
   "id": "8a84dbb8-33ac-4732-bca8-280d62344a2e",
   "metadata": {},
   "outputs": [],
   "source": [
    "from transformers import GPT2LMHeadModel\n",
    "from transformers import GPT2Tokenizer\n",
    "from transformers import pipeline\n",
    "from datasets import load_metric \n",
    "import transformers\n",
    "import pandas as pd\n",
    "import datasets\n",
    "import logging\n",
    "import tarfile\n",
    "import os"
   ]
  },
  {
   "cell_type": "code",
   "execution_count": 4,
   "id": "b0c0d1a0-6347-4bbc-a5c0-6d214dff2a56",
   "metadata": {
    "tags": []
   },
   "outputs": [],
   "source": [
    "pd.options.display.max_colwidth = 100"
   ]
  },
  {
   "cell_type": "markdown",
   "id": "1e284a2d-8a21-44d8-995a-3006d8e89cfb",
   "metadata": {},
   "source": [
    "##### Setup logging"
   ]
  },
  {
   "cell_type": "code",
   "execution_count": 5,
   "id": "ea82ae8c-9fbb-47c5-ba67-7b45ff865310",
   "metadata": {},
   "outputs": [],
   "source": [
    "logger = logging.getLogger('sagemaker')\n",
    "logger.setLevel(logging.DEBUG)\n",
    "logger.addHandler(logging.StreamHandler())"
   ]
  },
  {
   "cell_type": "markdown",
   "id": "002200c9-9ce4-4a40-ab9f-0e2088e3717c",
   "metadata": {},
   "source": [
    "##### Log versions of dependencies "
   ]
  },
  {
   "cell_type": "code",
   "execution_count": 6,
   "id": "39e423fc-add8-4eb6-ab7d-d95f865584a0",
   "metadata": {},
   "outputs": [
    {
     "name": "stderr",
     "output_type": "stream",
     "text": [
      "[Using transformers: 4.18.0]\n",
      "[Using datasets: 2.4.0]\n"
     ]
    }
   ],
   "source": [
    "logger.info(f'[Using transformers: {transformers.__version__}]')\n",
    "logger.info(f'[Using datasets: {datasets.__version__}]')"
   ]
  },
  {
   "cell_type": "markdown",
   "id": "31d6da77-0be3-4528-ae43-d427812e9082",
   "metadata": {},
   "source": [
    "### Copy candidate models from S3 to local for evaluation "
   ]
  },
  {
   "cell_type": "code",
   "execution_count": 7,
   "id": "721b1224-61e2-4f0e-b9c4-a15ba35f233d",
   "metadata": {
    "tags": []
   },
   "outputs": [
    {
     "name": "stdout",
     "output_type": "stream",
     "text": [
      "download: s3://sagemaker-us-east-1-119174016168/model/custom/config.json to models/pretrained-from-scratch/config.json\n",
      "download: s3://sagemaker-us-east-1-119174016168/model/custom/special_tokens_map.json to models/pretrained-from-scratch/special_tokens_map.json\n",
      "download: s3://sagemaker-us-east-1-119174016168/model/custom/training_args.bin to models/pretrained-from-scratch/training_args.bin\n",
      "download: s3://sagemaker-us-east-1-119174016168/model/custom/tokenizer_config.json to models/pretrained-from-scratch/tokenizer_config.json\n",
      "download: s3://sagemaker-us-east-1-119174016168/model/custom/merges.txt to models/pretrained-from-scratch/merges.txt\n",
      "download: s3://sagemaker-us-east-1-119174016168/model/custom/vocab.json to models/pretrained-from-scratch/vocab.json\n",
      "download: s3://sagemaker-us-east-1-119174016168/model/custom/tokenizer.json to models/pretrained-from-scratch/tokenizer.json\n",
      "download: s3://sagemaker-us-east-1-119174016168/model/custom/pytorch_model.bin to models/pretrained-from-scratch/pytorch_model.bin\n"
     ]
    }
   ],
   "source": [
    "!aws s3 cp s3://sagemaker-us-east-1-119174016168/model/custom/ ./models/pretrained-from-scratch/ --recursive"
   ]
  },
  {
   "cell_type": "code",
   "execution_count": 8,
   "id": "56c19ad1-d7be-4345-b100-fc10ffe20981",
   "metadata": {
    "tags": []
   },
   "outputs": [
    {
     "name": "stdout",
     "output_type": "stream",
     "text": [
      "download: s3://sagemaker-us-east-1-119174016168/model/finetuned/special_tokens_map.json to models/oob-finetuned/special_tokens_map.json\n",
      "download: s3://sagemaker-us-east-1-119174016168/model/finetuned/training_args.bin to models/oob-finetuned/training_args.bin\n",
      "download: s3://sagemaker-us-east-1-119174016168/model/finetuned/tokenizer_config.json to models/oob-finetuned/tokenizer_config.json\n",
      "download: s3://sagemaker-us-east-1-119174016168/model/finetuned/config.json to models/oob-finetuned/config.json\n",
      "download: s3://sagemaker-us-east-1-119174016168/model/finetuned/merges.txt to models/oob-finetuned/merges.txt\n",
      "download: s3://sagemaker-us-east-1-119174016168/model/finetuned/tokenizer.json to models/oob-finetuned/tokenizer.json\n",
      "download: s3://sagemaker-us-east-1-119174016168/model/finetuned/vocab.json to models/oob-finetuned/vocab.json\n",
      "download: s3://sagemaker-us-east-1-119174016168/model/finetuned/pytorch_model.bin to models/oob-finetuned/pytorch_model.bin\n"
     ]
    }
   ],
   "source": [
    "!aws s3 cp s3://sagemaker-us-east-1-119174016168/model/finetuned/ ./models/oob-finetuned/ --recursive"
   ]
  },
  {
   "cell_type": "markdown",
   "id": "c68ec843-b0c7-4268-80bd-351f2419773b",
   "metadata": {},
   "source": [
    "### Load candidate models for evaluation "
   ]
  },
  {
   "cell_type": "markdown",
   "id": "a4f49ac6-3af7-4d39-80df-67b4b2da82ed",
   "metadata": {},
   "source": [
    "##### Load Out-of-the-box (OOB) GPT2"
   ]
  },
  {
   "cell_type": "code",
   "execution_count": 9,
   "id": "a0efffbd-a961-42e7-b116-a7b726b024f4",
   "metadata": {
    "tags": []
   },
   "outputs": [],
   "source": [
    "oob_gpt2 = pipeline('text-generation', model='gpt2')"
   ]
  },
  {
   "cell_type": "markdown",
   "id": "479ddd4c-ce05-4df4-a8d0-c685762bd0ba",
   "metadata": {},
   "source": [
    "##### Load OOB GPT2 fine-tuned on covid news articles "
   ]
  },
  {
   "cell_type": "code",
   "execution_count": 10,
   "id": "356c4276-5805-48a1-8a5b-7b73788658d9",
   "metadata": {},
   "outputs": [],
   "source": [
    "oob_gpt2_finetuned = pipeline('text-generation', model='./models/oob-finetuned/')"
   ]
  },
  {
   "cell_type": "markdown",
   "id": "41369669-09f3-445e-90be-209c7b6566fe",
   "metadata": {},
   "source": [
    "##### Load custom GPT2 further pre-trained (trained from scratch) on covid news articles "
   ]
  },
  {
   "cell_type": "code",
   "execution_count": 11,
   "id": "98daefa5-02b7-4a60-b683-1e04185e313e",
   "metadata": {
    "tags": []
   },
   "outputs": [],
   "source": [
    "custom_gpt2 = pipeline('text-generation', model='./models/pretrained-from-scratch/')"
   ]
  },
  {
   "cell_type": "markdown",
   "id": "fc8004d5-e48c-4999-bfb5-3a2577a5606d",
   "metadata": {},
   "source": [
    "### Evaluate reference articles againsts the candidate models"
   ]
  },
  {
   "cell_type": "code",
   "execution_count": 12,
   "id": "248a0370-4501-4f63-b282-12fbdda770ee",
   "metadata": {
    "tags": []
   },
   "outputs": [
    {
     "data": {
      "text/html": [
       "<div>\n",
       "<style scoped>\n",
       "    .dataframe tbody tr th:only-of-type {\n",
       "        vertical-align: middle;\n",
       "    }\n",
       "\n",
       "    .dataframe tbody tr th {\n",
       "        vertical-align: top;\n",
       "    }\n",
       "\n",
       "    .dataframe thead th {\n",
       "        text-align: right;\n",
       "    }\n",
       "</style>\n",
       "<table border=\"1\" class=\"dataframe\">\n",
       "  <thead>\n",
       "    <tr style=\"text-align: right;\">\n",
       "      <th></th>\n",
       "      <th>reference_article</th>\n",
       "      <th>prompt</th>\n",
       "    </tr>\n",
       "  </thead>\n",
       "  <tbody>\n",
       "    <tr>\n",
       "      <th>0</th>\n",
       "      <td>On Tuesday, Dr. Fauci and other health officials testified before the U.S. House Energy and Comm...</td>\n",
       "      <td>On Tuesday, Dr. Fauci and other health officials</td>\n",
       "    </tr>\n",
       "    <tr>\n",
       "      <th>1</th>\n",
       "      <td>Pfizer Inc. on Wednesday reported results from two late-stage studies ahead of schedule as it pu...</td>\n",
       "      <td>Pfizer Inc. on Wednesday reported results</td>\n",
       "    </tr>\n",
       "    <tr>\n",
       "      <th>2</th>\n",
       "      <td>President Donald Trump said the U.S. has the outbreak of the coronavirus under control and has b...</td>\n",
       "      <td>President Donald Trump said the U.S. has the outbreak</td>\n",
       "    </tr>\n",
       "    <tr>\n",
       "      <th>3</th>\n",
       "      <td>President Joe Biden has signed a flurry of executive orders, actions and memorandums aimed at ra...</td>\n",
       "      <td>President Joe Biden has signed a flurry of executive orders</td>\n",
       "    </tr>\n",
       "    <tr>\n",
       "      <th>4</th>\n",
       "      <td>China is effectively in a lockdown. From big cities to little villages, almost every community i...</td>\n",
       "      <td>China is effectively in a lockdown.</td>\n",
       "    </tr>\n",
       "    <tr>\n",
       "      <th>5</th>\n",
       "      <td>Australian biotech Mesoblast has been riding high on expectations for its COVID-19 treatment, li...</td>\n",
       "      <td>Australian biotech Mesoblast has been riding high on expectations for its</td>\n",
       "    </tr>\n",
       "    <tr>\n",
       "      <th>6</th>\n",
       "      <td>The December, 2019 coronavirus disease outbreak has seen many countries ask people who have pote...</td>\n",
       "      <td>The December, 2019 coronavirus disease outbreak has seen many countries ask people who have pote...</td>\n",
       "    </tr>\n",
       "    <tr>\n",
       "      <th>7</th>\n",
       "      <td>The first confirmed case of coronavirus in India was reported today ( Jan. 30) in the southern s...</td>\n",
       "      <td>The first confirmed case of coronavirus in India was</td>\n",
       "    </tr>\n",
       "  </tbody>\n",
       "</table>\n",
       "</div>"
      ],
      "text/plain": [
       "                                                                                     reference_article  \\\n",
       "0  On Tuesday, Dr. Fauci and other health officials testified before the U.S. House Energy and Comm...   \n",
       "1  Pfizer Inc. on Wednesday reported results from two late-stage studies ahead of schedule as it pu...   \n",
       "2  President Donald Trump said the U.S. has the outbreak of the coronavirus under control and has b...   \n",
       "3  President Joe Biden has signed a flurry of executive orders, actions and memorandums aimed at ra...   \n",
       "4  China is effectively in a lockdown. From big cities to little villages, almost every community i...   \n",
       "5  Australian biotech Mesoblast has been riding high on expectations for its COVID-19 treatment, li...   \n",
       "6  The December, 2019 coronavirus disease outbreak has seen many countries ask people who have pote...   \n",
       "7  The first confirmed case of coronavirus in India was reported today ( Jan. 30) in the southern s...   \n",
       "\n",
       "                                                                                                prompt  \n",
       "0                                                     On Tuesday, Dr. Fauci and other health officials  \n",
       "1                                                            Pfizer Inc. on Wednesday reported results  \n",
       "2                                                President Donald Trump said the U.S. has the outbreak  \n",
       "3                                          President Joe Biden has signed a flurry of executive orders  \n",
       "4                                                                  China is effectively in a lockdown.  \n",
       "5                            Australian biotech Mesoblast has been riding high on expectations for its  \n",
       "6  The December, 2019 coronavirus disease outbreak has seen many countries ask people who have pote...  \n",
       "7                                                 The first confirmed case of coronavirus in India was  "
      ]
     },
     "execution_count": 12,
     "metadata": {},
     "output_type": "execute_result"
    }
   ],
   "source": [
    "ref_df = pd.read_csv('./data/test_articles.csv', names=['reference_article', 'prompt'])\n",
    "ref_df"
   ]
  },
  {
   "cell_type": "code",
   "execution_count": 13,
   "id": "4dd82cf9-6f5c-49bf-beec-dc0262849960",
   "metadata": {
    "tags": []
   },
   "outputs": [
    {
     "name": "stderr",
     "output_type": "stream",
     "text": [
      "Setting `pad_token_id` to `eos_token_id`:0 for open-end generation.\n"
     ]
    },
    {
     "name": "stdout",
     "output_type": "stream",
     "text": [
      "[2023-01-26 19:15:42.742 pytorch-1-8-gpu-py3-ml-g4dn-xlarge-60bd0d07a83be181dcf7335baae2:4936 INFO utils.py:27] RULE_JOB_STOP_SIGNAL_FILENAME: None\n",
      "[2023-01-26 19:15:42.775 pytorch-1-8-gpu-py3-ml-g4dn-xlarge-60bd0d07a83be181dcf7335baae2:4936 INFO profiler_config_parser.py:102] Unable to find config at /opt/ml/input/config/profilerconfig.json. Profiler is disabled.\n"
     ]
    },
    {
     "name": "stderr",
     "output_type": "stream",
     "text": [
      "Setting `pad_token_id` to `eos_token_id`:50256 for open-end generation.\n",
      "Setting `pad_token_id` to `eos_token_id`:50256 for open-end generation.\n",
      "Setting `pad_token_id` to `eos_token_id`:0 for open-end generation.\n"
     ]
    },
    {
     "name": "stdout",
     "output_type": "stream",
     "text": [
      "Prompt: On Tuesday, Dr. Fauci and other health officials\n",
      "\n",
      "Ref article: On Tuesday, Dr. Fauci and other health officials testified before the U.S. House Energy and Commerce Committee to discuss how the administration has been handling the coronavirus outbreak. Yahoo Finance’s Anjalee Khemlani breaks down the latest news about the coronavirus on The Final Round.\n",
      "\n",
      "Custom GPT2 Response: On Tuesday, Dr. Fauci and other health officials have been urging the government to take steps like banning alcohol sales in supermarkets as a way of preventing covid-19 transmission among staff at public hospitals that are already struggling with staffing shortages due partly or entirely from coronavirus patients being discharged into care homes for older people who need it most ( see chart). but they say this is not enough: “ we must ensure all healthcare workers can safely continue their work without fear endangering themselves by going out on sick leave ”. some doctors believe there should be no restrictions placed upon them because so many frontline nhs personnel do still go through hospital treatment each day – even if those working outside london may face an increased risk when treating infected individuals than inside wards where social distancing measures might prevent infection spread between colleagues within hours—and therefore potentially infecting others more quickly via aerosolised droplets released during intubation rather easily after inserting plastic barriers around patient faces instead; while medical professionals worry about exposing vulnerable members such close contacts back home before testing positive again could lead medics’ decisions now would depend largely based solely purely off evidence provided over time online using mobile phone apps which monitor symptoms across different locations including schools/work places? dr david nabarro has said he does hope governments will act swiftly against any new outbreaks linked directly down under given how much information available today was never publicly known until recently regarding whether cases were imported too early - although scientists don't yet know what level one had reached earlier days -- nor did anyone else tell\n",
      "\n",
      "OOB GPT2 Finetuned Response: On Tuesday, Dr. Fauci and other health officials are not the only ones who have been caught up in this pandemic-induced crisis: they’ re also a part of an elite group that has become increasingly politicized by politicians for their own political gain; some members may be more willing to take risks than others because it is clear what works best when everyone else does something wrong or doesn't work as well on its merits ( see “ howard university medical center covid tracker). '') but there's another reason why we're seeing such high levels now — namely among conservatives—that these groups seem less likely even though many people donald trump jr.'s administration seems intent upon taking credit with them during his presidency. `` i think you've got ta get rid [ sic ] from being able do anything about politics? no one wants any kinder person like me doing things right here at home without having much influence over my life outside washington dc... so if anybody thinks he can make money off him then maybe someone should just go out into public office instead.... oh yeah! let us know!!! https : //tmsnrt., 5gw wifi 6e6a9k picardo d'antonio/getty images ivan vega / mashable via ap president joan biden was elected upton thursday night after winning reelection against republican incumbent sen kamala harris, according multiple reports citing her campaign manager bill stepien\n",
      "\n",
      "OOB GPT2 Response: On Tuesday, Dr. Fauci and other health officials said they were investigating the case as a possible suicide attempt by an employee of one company's medical marijuana dispensary in San Francisco who was found dead on Monday morning at his home near Westlake Park Boulevard just before midnight (7:30 p.)\n",
      "\"We are still looking into this,\" he told reporters after meeting with police officers from both agencies Wednesday afternoon to discuss what happened that night outside their office building where two employees had been killed earlier today when gunfire erupted inside.\"The investigation is ongoing but we have no further information yet about any potential motive for these deaths or why it took place here so early last week,'' she added Thursday evening during her weekly news conference announcing new guidelines regarding how dispensaries should operate under California law.''\n",
      "--------------------------------------------------------------------------------------------------------------------------------------------------------------------------------------------------------\n"
     ]
    },
    {
     "name": "stderr",
     "output_type": "stream",
     "text": [
      "Setting `pad_token_id` to `eos_token_id`:50256 for open-end generation.\n",
      "Setting `pad_token_id` to `eos_token_id`:50256 for open-end generation.\n",
      "Setting `pad_token_id` to `eos_token_id`:0 for open-end generation.\n"
     ]
    },
    {
     "name": "stdout",
     "output_type": "stream",
     "text": [
      "Prompt: Pfizer Inc. on Wednesday reported results\n",
      "\n",
      "Ref article: Pfizer Inc. on Wednesday reported results from two late-stage studies ahead of schedule as it put off its March 31 investor day amid the coronavirus outbreak. The drugmaker said its experimental treatment, abrocitinib, was effective in treating atopic dermatitis in combination with topical therapies in a late-stage study. In addition, it also reported positive top-line results from another late-stage study testing its pneumococcal conjugate vaccine candidate in adults 18 years of age or older not previously vaccinated against pneumococcal disease, a type of bacterial infection.\n",
      "\n",
      "Custom GPT2 Response: Pfizer Inc. on Wednesday reported results of the first phase iii study, which is being conducted in collaboration with astrazeneca and oxford university’ s jenner institute ( dsi), showing that a single dose given to patients who had been infected by sars-cov2 was safe for upto six months after their second shot; this time it also showed an efficacy rate similar or higher than 90%. “ we are pleased about these findings as they provide reassurance regarding protection against severe disease caused due [ covid ] …and importantly demonstrate our commitment towards developing effective vaccines at scale globally ”, said professor david nabarro from imperial college london during today's briefing session held alongside astra ceo pascal soriot via video link above: https : //tinyurl1hf3n pic..twitter value=0a7yqxhvk5 updated june 12th 2021 scientists have suggested two doses might be needed per person — but there has not yet proven evidence linking long vaccine intervals between shots nor how well immune responses work when administered one year apart. so far only data shows whether giving people three weeks'supply followed through until full vaccination provides lasting immunity even if antibodies wane over several years following infection -- though some studies suggest longer dosing may help reduce transmission among vaccinated individuals compared purely protecting those without symptoms, such research suggests otherwise too early could lead researchers into new strategies targeting variants like delta plus omicron while awaiting further clinical trials before deciding what type should become standard booster jabs? `` i think you need more robust testing\n",
      "\n",
      "OOB GPT2 Finetuned Response: Pfizer Inc. on Wednesday reported results from the study, which was published in june 2020 and has not yet been peer-reviewed or reviewed by other scientists at this time; however it is possible that some of these data may be misinterpreted as a result ( see ‘ how to use psychedelic drugs’). we are still learning about psychedelics but there have also already begun efforts for more research into their potential effects: one project led with drs1t2d3c4a5e6b927128211hxl8g7i0qjwzmvkp/editdocuments [ 1 ] https : //www1504210583789? s=2021 & clovervalueembedtypepageitemid ]; accessed august 2021google scholar ]. another recent trial involving mrna vaccines against covaxin showed similar efficacy rates among participants who received two doses 21 days apart comparedwith those receiving placebo 28–34 weeks after vaccination—and thus far only found no difference between groups when comparing them across different age ranges according sex groupings using an online questionnaire administered via telephone rather than through email – suggesting further investigation should follow up before any conclusions can emerge regarding whether such differences might affect vaccine effectiveness over long periods following infection versus natural immunity induced postvaccination.. furthermore our findings suggest several limitations related specifically towards interpreting clinical outcomes during pandemic waves including limited access due largely exclusively toward older adults being prioritised because they were less likely pre\n",
      "\n",
      "OOB GPT2 Response: Pfizer Inc. on Wednesday reported results of a study that found the number one cause for concern among children is obesity, with an estimated 1 in 5 adults having at least some type 2 diabetes or high blood pressure (HBP).\n",
      "\"The most common reason people are overweight and obese has been smoking,\" said Dr David Hirschfeld from Harvard Medical School's Department Of Public Health who led research into this issue last year as part to understand why so many Americans have trouble getting enough exercise during their lives.\"We know there may be other factors contributing [to] weight gain but we don't yet fully address it because our data do not support any specific causes such like heart disease nor cancer risk associated by these medications alone,\" he added. \"This new report shows how important diet can be when you're trying hard every day without losing your appetite due either excessive sugar intake through overeating too much food over time?\"\n",
      "--------------------------------------------------------------------------------------------------------------------------------------------------------------------------------------------------------\n"
     ]
    },
    {
     "name": "stderr",
     "output_type": "stream",
     "text": [
      "Setting `pad_token_id` to `eos_token_id`:50256 for open-end generation.\n",
      "Setting `pad_token_id` to `eos_token_id`:50256 for open-end generation.\n",
      "Setting `pad_token_id` to `eos_token_id`:0 for open-end generation.\n"
     ]
    },
    {
     "name": "stdout",
     "output_type": "stream",
     "text": [
      "Prompt: President Donald Trump said the U.S. has the outbreak\n",
      "\n",
      "Ref article: President Donald Trump said the U.S. has the outbreak of the coronavirus under control and has been briefed by the Centers for Disease Control and Prevention. Speaking to CNBC, Trump said he wasn't worried it would turn into a pandemic and said the only person infected had flown in from China. He repeated his view that the impeachment is a hoax. Trump batted away a question on whether the Fed's balance sheet was the prime reason for the stock-market SPX, +2.64% gains. He said Fed interest rates should still go lower because the dollar DXY, -0.19% is strong.\n",
      "\n",
      "Custom GPT2 Response: President Donald Trump said the U.S. has the outbreak of coronavirus been contained? `` we have not seen a significant impact on our economy, '' he added in an interview with reuters via telephone from rome's la repubblica newspaper last week when asked about his view that china is likely to be hit by covid-19 first and then later than other countries as well due its role within global supply chains for medical supplies such items like masks or protective equipment ( ppe).china was also one month ahead at reporting cases but had only reported two deaths so far this year - both related directly through wuhan itself – according figures compiled using official data published earlier today https: //www1reutersnews/world health organization officials are concerned over how much damage it will cause if chinese factories shut down again after their spring festival holiday break which runs until mid april next season following lunar newyear holidays starting feb 1st onwards [ read more ].the government should take note......but i think there needs some sortof economic stimulus package now because they're worried what happens afterwards....and maybe even something else..as long term you can't do anything without doing nothing! 'italy may need another fiscal support too given italy’ s high debt levelshttps//fredericinpruildefrance2021 picassouropean @ eurofoundationitalia # virustracker 📉🇪france reports 2nd death; spain 3rd highest tally since march 2020 * uk records 4th worst day\n",
      "\n",
      "OOB GPT2 Finetuned Response: President Donald Trump said the U.S. has the outbreak been a major factor in this? i think it’ s because of covid-19, and we have to be careful about how much time people spend with each other during lockdown – not just on our own but also by ourselves as well too many others around us who are at home doing their jobs from work or school for extended periods ( which is why they can now do so).but there was no mention that these were strange times; rather than being an opportunity “ normalcy returns back into existence … [ like ] going out every day…we will get through all those things again soon! '' ``... what's happening here: you're seeing more cases per capita across europe right after lockdowns end.... if anything else - social distancing measures may become permanent ''.and yet another thing seems certain when considering your situation today where most countries seem incapablely accepting any kinder formality among themselves without having had enough contact tracing systems built up over months ago.. maybe some governments might even consider adopting something similar such approach while still allowing citizens access only essential services including food shopping etc..... perhaps one could argue otherwise though….i don't know whether anyone would agree either way whatsoever except my point above asserting ignorance regarding coronavirus deaths/infections rates amongst elderly population groups appears very reasonable given recent data suggesting hospitalisations remain high despite increasing numbers due largely unvaccinated populations worldwide. @ jagpatel3) https :\n",
      "\n",
      "OOB GPT2 Response: President Donald Trump said the U.S. has the outbreak of Ebola in West Africa \"very, very serious.\"\n",
      " (Reuters)\n",
      "\n",
      ": In a statement released by his office on Friday morning, President Barack Obama called for an immediate halt to all aid deliveries from countries affected and urged people who have been sick or injured as they travel abroad — including those with no medical need – to seek treatment at home before returning back into their homes. The White House also issued another call Thursday evening urging Americans traveling overseas not only be prepared but encouraged them if possible because it is believed that some are infected while others may die after being exposed during transport through crowded airports.\"The United States will continue its efforts against this deadly disease,\" he added,\"and we urge our partners around Europe...to take steps now so these individuals can return safely.\"\"We're going forward today -- I'm calling you tonight - where there's still time,'' Mr Bush told reporters aboard Air Force One when asked about what was happening next week near Sierra Leone following reports last month suggesting more than 1 million had died due both direct contact between air traffic controllers working together under one command system over Guinea-Bissau International Airport & Liberia airport; two other cases were reported earlier Wednesday night ; three additional deaths occurred Tuesday afternoon along Interstate 5 off Highway 101 northbound across Frome County southward toward Kinshasa State Park;\"I am asking my colleagues here tomorrow whether any American citizens should ever leave America without proper authorization... We must do everything within\n",
      "--------------------------------------------------------------------------------------------------------------------------------------------------------------------------------------------------------\n"
     ]
    },
    {
     "name": "stderr",
     "output_type": "stream",
     "text": [
      "Setting `pad_token_id` to `eos_token_id`:50256 for open-end generation.\n",
      "Setting `pad_token_id` to `eos_token_id`:50256 for open-end generation.\n",
      "Setting `pad_token_id` to `eos_token_id`:0 for open-end generation.\n"
     ]
    },
    {
     "name": "stdout",
     "output_type": "stream",
     "text": [
      "Prompt: President Joe Biden has signed a flurry of executive orders\n",
      "\n",
      "Ref article: President Joe Biden has signed a flurry of executive orders, actions and memorandums aimed at rapidly addressing the coronavirus pandemic and dismantling many of President Donald Trump's policies. The 30 executive actions Biden has taken in the first days of his administration include halting funding for the construction of Trump's border wall, reversing Trump's travel ban targeting largely Muslim countries, imposing a mask mandate on federal property, ramping up vaccination supplies and requiring international travelers to provide proof of a negative Covid-19 test prior to traveling to the US\n",
      "\n",
      "Custom GPT2 Response: President Joe Biden has signed a flurry of executive orders to promote the use and availability, including an order that would allow for “ emergency medical assistance ” in cases where there is no available alternative. [ 1 ] this includes providing support through subsidies or other forms such as tax credits; making sure people who are sick with covid-19 receive adequate care ( e., food) while also ensuring they have access at home without discrimination by their employer’ s labor force); implementing new policies on health insurance coverage under section 401b rules which require employers not discriminate against employees based solely upon employment status but instead apply it broadly across all workers regardless if those individuals were employed within one year prior—or had been working from any part thereof before march 2020 when most workplaces closed due pandemic restrictions began). these measures should be taken together consistently so we can ensure everyone benefits equally during periods like now: families living paycheck down will need more help than ever right away because many businesses shut up shop completely overnight last spring/early summer after being forced into bankruptcy protection following monthslong closures caused widespread layoffs among small business owners nationwide amid stay downs related shutdowns throughout much portion size ranges ranging between 50% -100%. however some states still offer unemployment compensation programs similar levels —suchas california, illinois. even though state law allows us companies receiving federal aid flexibility over whether staff members must return once again given limited capacity limits imposed earlier today – our government agencies continue doing everything possible until congress provides additional relief beyond what was provided yesterday\n",
      "\n",
      "OOB GPT2 Finetuned Response: President Joe Biden has signed a flurry of executive orders to help the u.s.-based company expand its presence in china, where it is headquartered and operates facilities there as well; namely: `` we are committed not only with our employees but also by all stakeholders who have been impacted during this time '' -- including those working on covid-19 response efforts across multiple industries such that they work for companies like amazon ( nasdaqcm) or walmart inc., which operate warehouses outside major cities around new york city's staten island neighborhood while their customers can't travel abroad due restrictions related thereto? according these actions will be implemented through an initial public offering process called ipo filing procedures conducted via zoom from july 1 until august 31st 2021 at 10 pocallanzani offices located throughout manhattan’ s westchester county shopping district—the first step toward expanding into other markets globally amid coronavirus pandemic lockdowns. read more here 'if you're looking forward... if your business needs us now, please sign up online ahead! https : //tmsnrtc1w0z9 pic·twitter–com/qf8l7xjv6m — michael kleinmanner @ cnnukraine today nykaa rakova was one day shy away when she heard about her father being diagnosed after he had just returned home following his return flight back out last week because “ i don ` t know what else\n",
      "\n",
      "OOB GPT2 Response: President Joe Biden has signed a flurry of executive orders to address the nation's opioid crisis.\n",
      " (Photo: AP) Story Highlights The White House says it will not sign any new opioids legislation until after Congress passes them, but that \"the president is committed\" and he'll work with lawmakers on how best they can do so in his first 100 days as President-elect Trump takes office Jan 20th\n",
      "\n",
      "\n",
      "\n",
      "--------------------------------------------------------------------------------------------------------------------------------------------------------------------------------------------------------\n"
     ]
    },
    {
     "name": "stderr",
     "output_type": "stream",
     "text": [
      "Setting `pad_token_id` to `eos_token_id`:50256 for open-end generation.\n",
      "Setting `pad_token_id` to `eos_token_id`:50256 for open-end generation.\n",
      "Setting `pad_token_id` to `eos_token_id`:0 for open-end generation.\n"
     ]
    },
    {
     "name": "stdout",
     "output_type": "stream",
     "text": [
      "Prompt: China is effectively in a lockdown.\n",
      "\n",
      "Ref article: China is effectively in a lockdown. From big cities to little villages, almost every community is under quarantine to a varying degree, or at least faces some travel restrictions. There is little information on how long this will last. One thing for sure is that the government is willing to keep the country in lockdown until the virus outbreak comes under control. A government mobilisation on this scale is unprecedented.\n",
      "\n",
      "Custom GPT2 Response: China is effectively in a lockdown. the only way to get out of this nightmare, and keep everyone safe from covid-19 infection for as long or longer than necessary was by getting vaccinated against it first before going on holiday abroad ( which has been banned since march 2020). but there are other ways you can help: if your loved one gets sick with coronavirus then they should be able access care at home without worrying about being hospitalised; even though their condition may not improve until after that date – so try again later when possible because hospitalisation will make them more vulnerable once infected too!  i’ ve had my own experience during quarantine where we have seen people who were very ill while waiting outside hospitals all over europe queuing up around me trying things like buying oxygen cylinders instead [ … ] having food delivered straight into our rooms…i think these patients deserve better treatment now... ” “ what do doctors need? how many times did someone die alone due just sitting down crying under an open bed lying across his face?... why would anyone want such high levels needed right away?? '' `` no matter whether he died within 24 hours - never mind any deaths caused directly through medical negligence ''. don't forget those dying every day via ambulance services themselves.. # clapforcarers picard > https//t4u5o8f0cq — dr david williams 🌈🍻‍♂️🏾💚 @ helenrwilliams⁩🇪 📸👏https ✨\n",
      "\n",
      "OOB GPT2 Finetuned Response: China is effectively in a lockdown. the government has been criticised for not doing enough to protect its citizens from covid-19, and it’ s now facing criticism over how much of that money was spent on testing kits – which are being used by health workers as well because they can be bought at cost prices or even sold online without any real evidence proving their accuracy ( see chart). but there have also come concerns about whether this will lead people back into isolation when cases rise again: “ we don't want them going out with no symptoms whatsoever; if you're sick then go home immediately after your test results arrive too late? i think what's happening here could potentially make us feel like our lives aren 'normal '. '' prof jonathan van rielke said he would rather avoid pubs than restaurants opening up before christmas `` unless absolutely necessary... so why should anyone get tested anyway?, especially given all those who do need tests right away! https - //thediplomat @ hancock # coronavirus pic.twitter.-com/qzjvxhfk9n5 — boris johnson 🚴🏻󠁧利，⬇️https��싅比✨👉 ➡𝕐곀 없륭을 호핵니 몱ẃu·s~china & u\n",
      "\n",
      "OOB GPT2 Response: China is effectively in a lockdown.\n",
      "\"We are not going to let them go,\" said the minister of state for foreign affairs, who asked that his name be withheld because he was unable or unwilling on condition it would only come out publicly and without any further comment from him.\"The government has been trying very hard since last year with its own security forces but they have failed miserably at this point so far... We will continue our efforts until we get there\", added Mr Gao's spokesman Li Keqiang. \"It seems like China wants us all dead\".\n",
      "--------------------------------------------------------------------------------------------------------------------------------------------------------------------------------------------------------\n"
     ]
    },
    {
     "name": "stderr",
     "output_type": "stream",
     "text": [
      "Setting `pad_token_id` to `eos_token_id`:50256 for open-end generation.\n",
      "Setting `pad_token_id` to `eos_token_id`:50256 for open-end generation.\n",
      "Setting `pad_token_id` to `eos_token_id`:0 for open-end generation.\n"
     ]
    },
    {
     "name": "stdout",
     "output_type": "stream",
     "text": [
      "Prompt: Australian biotech Mesoblast has been riding high on expectations for its\n",
      "\n",
      "Ref article: Australian biotech Mesoblast has been riding high on expectations for its COVID-19 treatment, licensed to Novartis, but fell back to Earth after it said a phase 3 trial of the cell therapy was a bust. Shares in the stem cell specialist on the ASX lost more than a third of their value after data experts said the study of remestemcel-L in ventilator-dependent patients with moderate to severe acute respiratory distress syndrome ( ARDS) due to COVID-19 was unlikely to show a benefit. Mesoblast said the trial could have been affected by improvements in the care of COVID-19 patients over the last few months, as doctors gathered experience in treating the disease. That included the use of experimental drugs like dexamethasone and Gilead’ s antiviral Veklury (remdesivir).\n",
      "\n",
      "Custom GPT2 Response: Australian biotech Mesoblast has been riding high on expectations for its covid-19 vaccine candidate, which it is developing with the university of oxford. but as a result there are concerns about whether this will be enough to meet demand in 2021 and beyond – especially if new variants emerge that could evade existing vaccines or render current ones ineffective against them altogether ( see below). astrazeneca’ s azd1222 uses an adenoviral vector platform called chadox1 rather than mrna technology; however these vectors have not yet received regulatory approval from regulators around europe nor elsewhere where they were approved before 2020: so far only one version appears effective at preventing symptomatic disease caused by sars cov2 infection among those who got two doses within three months after their second dose compared favourably [ 1 ]. astra hopes data published today showing efficacy rates similar across different age groups would help inform how quickly any potential booster shots might become available should such evidence come through ”. while clinical trials continue into next year/year testing other candidates using adenovirus type 5 platforms like ad5 viral particles produced immune responses comparable between older adults aged 65 years & above) we expect results soon when phase 3 studies begin assessing safety profiles following vaccination programmes based upon both dosing regimes used widely throughout populations worldwide including people over 80s given first injections followed shortly afterwards via either homologous prime boost regimens administered four weeks apart under emergency use authorisation granted last month 2. read more here.) • biontech se bntx, also known formally bnt162b3 — announced yesterday plans “ robust ” antibody response elicited t cells\n",
      "\n",
      "OOB GPT2 Finetuned Response: Australian biotech Mesoblast has been riding high on expectations for its covid-19 vaccine. the company’ s ceo, dr anthony fauci, told cnn that he expects to have a “ very good answer in november or december and probably even early january of next year if we get it right around christmas eve. '' but there are other reasons why this is not going well: firstly because vaccines don't work as intended; secondarily they can be manufactured at scale without causing side effects like fever — which could make them less effective against omicron than earlier variants ( see also 5 things you need from your doctor about). third reason? many people who got vaccinated with pfizer's shot were unvaccinated before their shots became available last week after being exposed during an indoor gathering where several attendees tested positive again within hours prior testing revealed two cases among those fully inoculated—one involving someone else visiting family members while awaiting test results.) another factor was how quickly some individuals had developed symptoms following vaccination so far when infected others did experience milder illness afterward compared by previous infection alone due largely unaffected immune responses such antibodies produced through natural infections rather unlike past ones caused entirely different reactions similar only slightly more frequently reported here too often now though immunity wanes over time thanks mostly waning antibody levels seen across age groups ; however long protection lasts longer lasting beyond six months post initial exposure may still provide additional benefit given current evidence suggests boosters offer strong protective effect --\n",
      "\n",
      "OOB GPT2 Response: Australian biotech Mesoblast has been riding high on expectations for its next generation of genetically engineered crops.\n",
      ", which is expected to be ready by the end this year and will have a range from 1-2 hectares (4 acres) in size with an average yield between 2% - 4%. The company's latest crop was developed at Monsanto Labs' headquarters near San Francisco where it had previously worked as part time research scientist before moving into production operations last summer after being acquired jointly through Merck & Co., Bayer AG, Syngenta Inc.and DuPont Plc Ltd..\n",
      "--------------------------------------------------------------------------------------------------------------------------------------------------------------------------------------------------------\n"
     ]
    },
    {
     "name": "stderr",
     "output_type": "stream",
     "text": [
      "Setting `pad_token_id` to `eos_token_id`:50256 for open-end generation.\n",
      "Setting `pad_token_id` to `eos_token_id`:50256 for open-end generation.\n",
      "Setting `pad_token_id` to `eos_token_id`:0 for open-end generation.\n"
     ]
    },
    {
     "name": "stdout",
     "output_type": "stream",
     "text": [
      "Prompt: The December, 2019 coronavirus disease outbreak has seen many countries ask people who have potentially come into contact with the infection to isolate themselves\n",
      "\n",
      "Ref article: The December, 2019 coronavirus disease outbreak has seen many countries ask people who have potentially come into contact with the infection to isolate themselves at home or in a dedicated quarantine facility. Decisions on how to apply quarantine should be based on the best available evidence. This review of the psychological impact of quarantine using three electronic databases. Of 3166 papers found, 24 are included in this Review. Most reviewed studies reported negative psychological effects including post-traumatic stress symptoms, confusion, and anger. Stressors included longer quarantine duration, infection fears, frustration, boredom, inadequate supplies, inadequate information, financial loss, and stigma.\n",
      "\n",
      "Custom GPT2 Response: The December, 2019 coronavirus disease outbreak has seen many countries ask people who have potentially come into contact with the infection to isolate themselves. in china and south korea there are reports of patients being turned away from hospitals because they do not want them hospitalised for fear that their condition will worsen or be put on a ventilator if it becomes necessary ( see article). but even before this crisis began some governments were already taking steps towards making sure infected individuals can get tested without having symptoms at all: germany’ s health minister jens spahn said he was “ very concerned ” about testing kits coming out too late; france is reportedly considering using tests made by roche-sd biosensor as part its own test kit programme after an italian doctor complained his results had been delayed while waiting outside hospital isolation rooms due concerns over covid cases spreading within family members during pregnancy.) other nations may also follow suit – such australia announced last week plans would allow up asymptomatic citizens returning home via commercial flights instead—but these measures could prove difficult when combined together those factors make controlling transmission harder than usual given how much virus remains around us each day despite our best efforts minimising risk through social distancing rules alone might seem like impossible now more so since we don't know what's going ahead until next winter - let me explain why i think most states should take extra precautions against infections early enough rather then wait till spring 2021 just yet another example where politicians must act quickly means shutting down schools earlier which leads children back indoors sooner? here again spain reported 1%\n",
      "\n",
      "OOB GPT2 Finetuned Response: The December, 2019 coronavirus disease outbreak has seen many countries ask people who have potentially come into contact with the infection to isolate themselves. this is a problem that needs urgent attention and coordination from governments around europe as well: in france alone there are more than 1 million confirmed cases of covid-19 ( pdf). italy’ s government announced on march 16th its first lockdown for two weeks after an increase last week at which thousands were confined indoors due not only their own health but also lack access or even basic necessities such food supplies like water bottles – all while they self quarantined together under strict conditions imposed by authorities during lockdowns elsewhere across northern regions including lombardy where most new infections occurred between february 25rd 2020 onwards; germany followed suit soon afterwards when schools closed until april 3nd 2021 following similar measures implemented earlier today [ see below ]. “ we need everyone working now … if you can work remotely then i think everybody should be able go back home…i don't know how long will happen because nobody knows what's going ahead yet... so why do some companies decide? '' said one expert quoted above about whether employers could offer workers flexibility over returning employees without having been exposed before being tested again once quarantine was lifted.. `` my guess would depend upon our ability - especially since these days those businesses may still want us here.... maybe something else might make sense given everything happening right away ''. another source added he thought firms had already started\n",
      "\n",
      "OOB GPT2 Response: The December, 2019 coronavirus disease outbreak has seen many countries ask people who have potentially come into contact with the infection to isolate themselves.\n",
      " (Photo: Getty Images) Story Highlights The virus is spread by mosquitoes and can be transmitted through direct touch or saliva from infected individuals in a person's mouth; it also causes diarrhea that lasts for days after exposure\n",
      "\n",
      "\n",
      "--------------------------------------------------------------------------------------------------------------------------------------------------------------------------------------------------------\n"
     ]
    },
    {
     "name": "stderr",
     "output_type": "stream",
     "text": [
      "Setting `pad_token_id` to `eos_token_id`:50256 for open-end generation.\n",
      "Setting `pad_token_id` to `eos_token_id`:50256 for open-end generation.\n"
     ]
    },
    {
     "name": "stdout",
     "output_type": "stream",
     "text": [
      "Prompt: The first confirmed case of coronavirus in India was\n",
      "\n",
      "Ref article: The first confirmed case of coronavirus in India was reported today ( Jan. 30) in the southern state of Kerala. The patient, a female student at Wuhan University in China, tested positive for the novel coronavirus after returning to Kerala. Kerala health minister KK Shailaja has called an emergency meeting at 3pm.\n",
      "\n",
      "Custom GPT2 Response: The first confirmed case of coronavirus in India was diagnosed with covid-19 on march 11th, 2020. he had been working from home since then and his wife has also tested positive for the virus but is asymptomatic so far no symptoms have shown up at work or school as a result ( see chart).asked by an email to staff last week: “ i am not aware that this happened before my return flight back into australia ”.the company’ s chief executive officer said it would be impossible without him being able access jobkeeper payments via their employer if they were unable do otherwise because there are still too many people who need them – including those employed directly within companies such casuals like rideshare drivers uber eats etc.. ” however qantas airways ltd., which operates international flights between sydney airport terminal 2a along nsw highway 5b; melbourne gateway connecting perth city centre through darwin airports [ … ] will continue operating until further notice due its exposure risk associatedwith travel related cases across borders...... we can confirm today our airline continues operations throughout victoria while following all government health advice regarding travelling overseas during these times.... updated 14/04 aest | 16h fna # auspol pic 1 - @ abcnewsaus 12 may 2021 `` when you're flying internationally '' https//todays12 //www1sportabc7live! == null) ||| * pixels = false & utm campaign=truehttps% 3degreeswemplatescommuterless+interactivecablecsunits\n",
      "\n",
      "OOB GPT2 Finetuned Response: The first confirmed case of coronavirus in India was a woman who had been living with her parents for more than two years. she died on april 1, the day after being diagnosed at an assisted-living facility near tokyo’ s otemachi neighborhood and later tested positive again by covid symptoms — but it wasn't until japanese authorities learned that one resident from another household contracted infection while visiting their mother's home during quarantine period when they were not allowed inside or outside as part time indoors without wearing masks outdoors. “ i think we are all very concerned about this virus spreading among our family members because there is no way out here where you can go anywhere else if your neighbor has any kinder illness, '' said kenji shibuya ( right) through his eyes following news reports he visited three nursing homes across kanagawa prefecture over several weeks ago before testing negative twice last week amid concerns surrounding infections within facilities themselves: yokohama mitsui fukuda ward; osaka nishikori hospital ; hiroshima university medical center • shinjuku station : +1 347 6057 | url https//www2yudenbriefingcenter/coronagraphs/.html `` my wife also got infected recently due mainly toward work so then came back sick... which means both me now have some sortier health issues compared against other people around us -- including having diabetes.... what do these patients need? how many times will\n",
      "\n",
      "OOB GPT2 Response: The first confirmed case of coronavirus in India was reported on April 6, 2014. The virus is spread through contact with saliva and blood from infected people or animals that have been exposed to it during pregnancy.\"\n",
      "\"It's a very rare disease,\" said Dr Rajesh Kumar Gupta-Kumar at the National Institute for Infectious Diseases (NIAID). \"We don't know if this infection has any effect but we are seeing cases now across all parts where there were no previous reports before today\".\n",
      "--------------------------------------------------------------------------------------------------------------------------------------------------------------------------------------------------------\n"
     ]
    }
   ],
   "source": [
    "for _, row in ref_df.iterrows():\n",
    "    ref_article, prompt = row\n",
    "    custom_gpt2_response = custom_gpt2(prompt, num_return_sequences=1, max_length=300, repetition_penalty=10.0, top_k=1, top_p=1.0)[0]['generated_text']\n",
    "    oob_gpt2_finetuned_response = oob_gpt2_finetuned(prompt, num_return_sequences=1, max_length=300, repetition_penalty=10.0, top_k=1, top_p=1.0)[0]['generated_text']\n",
    "    oob_gpt2_response = oob_gpt2(prompt, num_return_sequences=1, max_length=300, repetition_penalty=10.0, top_k=1, top_p=1.0)[0]['generated_text']\n",
    "    print(f'Prompt: {prompt}')\n",
    "    print()\n",
    "    print(f'Ref article: {ref_article}')\n",
    "    print()\n",
    "    print(f'Custom GPT2 Response: {custom_gpt2_response}')\n",
    "    print()\n",
    "    print(f'OOB GPT2 Finetuned Response: {oob_gpt2_finetuned_response}')\n",
    "    print()\n",
    "    print(f'OOB GPT2 Response: {oob_gpt2_response}')\n",
    "    print('-' * 200)"
   ]
  },
  {
   "cell_type": "markdown",
   "id": "9ad62cc0-bf6f-494b-aba0-11183c215a3e",
   "metadata": {},
   "source": [
    "### Save custom GPT2 pipeline "
   ]
  },
  {
   "cell_type": "code",
   "execution_count": 14,
   "id": "ca1833cc-7a62-40df-89be-6a69bc7188eb",
   "metadata": {
    "tags": []
   },
   "outputs": [],
   "source": [
    "custom_gpt2.save_pretrained('./models/pipeline/')"
   ]
  },
  {
   "cell_type": "markdown",
   "id": "5fdf0bea-08c6-4975-9421-9b37424ed1da",
   "metadata": {},
   "source": [
    "##### Archive the saved artifacts "
   ]
  },
  {
   "cell_type": "code",
   "execution_count": 15,
   "id": "ded23b7f-c50c-4f8c-9c7d-65651a7004c8",
   "metadata": {
    "tags": []
   },
   "outputs": [],
   "source": [
    "def get_file_paths(directory: str) -> list:\n",
    "        file_paths = [] \n",
    "        for root, directories, files in os.walk(directory):\n",
    "            for file_name in files:\n",
    "                file_path = os.path.join(root, file_name)\n",
    "                file_paths.append(file_path)  \n",
    "        return file_paths"
   ]
  },
  {
   "cell_type": "code",
   "execution_count": 16,
   "id": "63bbd3c4-c3f2-4af2-a14d-644a0cebe708",
   "metadata": {
    "tags": []
   },
   "outputs": [],
   "source": [
    "def tar_artifacts(local_artifacts_path: str, tar_save_path: str, tar_name: str) -> None:\n",
    "        if not os.path.exists(tar_save_path):\n",
    "            os.makedirs(tar_save_path, exist_ok=True)\n",
    "        tar = tarfile.open(f'{tar_save_path}/{tar_name}', 'w:gz')\n",
    "        file_paths = get_file_paths(local_artifacts_path)  \n",
    "        for file_path in file_paths:\n",
    "            file_ = file_path.split('/')[-1]\n",
    "            try:\n",
    "                tar.add(file_path, arcname=file_) \n",
    "            except OSError:\n",
    "                logger.info('Ignoring OSErrors during tar creation.')\n",
    "        tar.close()"
   ]
  },
  {
   "cell_type": "code",
   "execution_count": 17,
   "id": "b3199852-8c80-419e-94dc-8bb7c2b28b9e",
   "metadata": {
    "tags": []
   },
   "outputs": [],
   "source": [
    "tar_artifacts('./models/pipeline/', './models/pipeline/', 'custom-gpt2-pipeline.tar.gz')"
   ]
  },
  {
   "cell_type": "markdown",
   "id": "ec394459-3be7-4b72-84f5-aae0604c565c",
   "metadata": {},
   "source": [
    "##### Copy archive from local to S3 "
   ]
  },
  {
   "cell_type": "code",
   "execution_count": 18,
   "id": "6f22ba2b-e620-42cf-ab6f-1f530c1377b8",
   "metadata": {
    "tags": []
   },
   "outputs": [
    {
     "name": "stdout",
     "output_type": "stream",
     "text": [
      "upload: models/pipeline/custom-gpt2-pipeline.tar.gz to s3://sagemaker-us-east-1-119174016168/model/pipelines/pipeline.tar.gz\n"
     ]
    }
   ],
   "source": [
    "!aws s3 cp ./models/pipeline/custom-gpt2-pipeline.tar.gz s3://sagemaker-us-east-1-119174016168/model/pipelines/pipeline.tar.gz"
   ]
  },
  {
   "cell_type": "code",
   "execution_count": null,
   "id": "36d9223f-39d3-4550-90ca-ba764d9283e9",
   "metadata": {},
   "outputs": [],
   "source": []
  }
 ],
 "metadata": {
  "instance_type": "ml.g4dn.xlarge",
  "kernelspec": {
   "display_name": "Python 3 (PyTorch 1.8 Python 3.6 GPU Optimized)",
   "language": "python",
   "name": "python3__SAGEMAKER_INTERNAL__arn:aws:sagemaker:us-east-1:081325390199:image/pytorch-1.8-gpu-py36"
  },
  "language_info": {
   "codemirror_mode": {
    "name": "ipython",
    "version": 3
   },
   "file_extension": ".py",
   "mimetype": "text/x-python",
   "name": "python",
   "nbconvert_exporter": "python",
   "pygments_lexer": "ipython3",
   "version": "3.6.13"
  }
 },
 "nbformat": 4,
 "nbformat_minor": 5
}
