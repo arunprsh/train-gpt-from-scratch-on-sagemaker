{
 "cells": [
  {
   "cell_type": "markdown",
   "id": "b90a6f0a-fcb2-4af1-b41a-0251994bebe3",
   "metadata": {},
   "source": [
    "## Deploy foundational models using SageMaker Jumpstart"
   ]
  },
  {
   "cell_type": "markdown",
   "id": "e95b080a-28d0-4c32-9f51-b61442a80f2d",
   "metadata": {},
   "source": [
    "#### Imports "
   ]
  },
  {
   "cell_type": "code",
   "execution_count": 2,
   "id": "a0ee5b01-b8dd-4167-9905-0078cb65a39a",
   "metadata": {
    "tags": []
   },
   "outputs": [],
   "source": [
    "from sagemaker.utils import name_from_base\n",
    "from sagemaker.predictor import Predictor\n",
    "from sagemaker.session import Session\n",
    "from sagemaker import hyperparameters\n",
    "from sagemaker.model import Model\n",
    "from sagemaker import script_uris\n",
    "from sagemaker import image_uris\n",
    "from sagemaker import model_uris\n",
    "import sagemaker\n",
    "import logging\n",
    "import json"
   ]
  },
  {
   "cell_type": "markdown",
   "id": "cd0f93ab-1c58-4042-9e71-2f99baac2a8a",
   "metadata": {},
   "source": [
    "##### Setup logger"
   ]
  },
  {
   "cell_type": "code",
   "execution_count": 3,
   "id": "6fda25c0-4af1-43fc-9e23-23063761388a",
   "metadata": {
    "tags": []
   },
   "outputs": [],
   "source": [
    "logger = logging.getLogger('sagemaker')\n",
    "logger.setLevel(logging.DEBUG)\n",
    "logger.addHandler(logging.StreamHandler())"
   ]
  },
  {
   "cell_type": "markdown",
   "id": "599cc187-44a1-4feb-83a6-a5d987ef08f8",
   "metadata": {},
   "source": [
    "##### Log versions of dependencies"
   ]
  },
  {
   "cell_type": "code",
   "execution_count": 4,
   "id": "8da993e1-946c-4b0b-9ea5-2e00b2fd72df",
   "metadata": {
    "tags": []
   },
   "outputs": [
    {
     "name": "stderr",
     "output_type": "stream",
     "text": [
      "[Using sagemaker: 2.100.0]\n"
     ]
    }
   ],
   "source": [
    "logger.info(f'[Using sagemaker: {sagemaker.__version__}]')"
   ]
  },
  {
   "cell_type": "markdown",
   "id": "297e4ba3-3cfb-4989-b422-18535c2d2036",
   "metadata": {},
   "source": [
    "#### Setup essentials"
   ]
  },
  {
   "cell_type": "code",
   "execution_count": 5,
   "id": "cb601444-c812-40ad-b0b4-d372db83a1f0",
   "metadata": {
    "tags": []
   },
   "outputs": [],
   "source": [
    "MODEL_ID = 'huggingface-textgeneration-gpt2'  # do not change this \n",
    "MODEL_VERSION = '*'"
   ]
  },
  {
   "cell_type": "code",
   "execution_count": 6,
   "id": "e244814c-0b77-4081-938b-cb7987731d66",
   "metadata": {
    "tags": []
   },
   "outputs": [],
   "source": [
    "ENDPOINT_NAME = 'gpt2'\n",
    "INSTANCE_TYPE = 'ml.p2.xlarge'"
   ]
  },
  {
   "cell_type": "code",
   "execution_count": 7,
   "id": "daa73d6b-380c-4903-8612-d7f840e6099e",
   "metadata": {
    "tags": []
   },
   "outputs": [
    {
     "data": {
      "text/plain": [
       "'arn:aws:iam::119174016168:role/service-role/AmazonSageMaker-ExecutionRole-20211014T093628'"
      ]
     },
     "execution_count": 7,
     "metadata": {},
     "output_type": "execute_result"
    }
   ],
   "source": [
    "sagemaker_session = Session()\n",
    "ROLE = sagemaker_session.get_caller_identity_arn()\n",
    "ROLE"
   ]
  },
  {
   "cell_type": "markdown",
   "id": "b3693667-35c2-4d69-ab3d-d9f7427bb078",
   "metadata": {},
   "source": [
    "Retrieve HuggingFace DLC image ECR URI "
   ]
  },
  {
   "cell_type": "code",
   "execution_count": 8,
   "id": "eaa5bd04-90f6-4cc4-9836-90c0bf9a023f",
   "metadata": {
    "tags": []
   },
   "outputs": [
    {
     "data": {
      "text/plain": [
       "'763104351884.dkr.ecr.us-east-1.amazonaws.com/huggingface-pytorch-inference:1.10.2-transformers4.17.0-gpu-py38-cu113-ubuntu20.04'"
      ]
     },
     "execution_count": 8,
     "metadata": {},
     "output_type": "execute_result"
    }
   ],
   "source": [
    "image_uri = image_uris.retrieve(framework=None,  # automatically inferred via MODE_ID\n",
    "                                region=None,     # automatically inferred via MODE_ID\n",
    "                                image_scope='inference', \n",
    "                                model_id=MODEL_ID, \n",
    "                                model_version=MODEL_VERSION, \n",
    "                                instance_type=INSTANCE_TYPE)\n",
    "image_uri"
   ]
  },
  {
   "cell_type": "markdown",
   "id": "9f6bfaeb-9b5a-4740-94fd-bb3f861ed74e",
   "metadata": {},
   "source": [
    "Retrieve inference script S3 URI containing all dependencies and scripts for model loading and inference handling "
   ]
  },
  {
   "cell_type": "code",
   "execution_count": 9,
   "id": "52701bf2-1142-459a-94e1-82d7c74c6187",
   "metadata": {
    "tags": []
   },
   "outputs": [
    {
     "data": {
      "text/plain": [
       "'s3://jumpstart-cache-prod-us-east-1/source-directory-tarballs/huggingface/inference/textgeneration/v1.1.2/sourcedir.tar.gz'"
      ]
     },
     "execution_count": 9,
     "metadata": {},
     "output_type": "execute_result"
    }
   ],
   "source": [
    "source_uri = script_uris.retrieve(model_id=MODEL_ID, \n",
    "                                  model_version=MODEL_VERSION, \n",
    "                                  script_scope='inference')\n",
    "source_uri"
   ]
  },
  {
   "cell_type": "markdown",
   "id": "424a2eaa-a794-46d3-a9f1-a8529f3210f9",
   "metadata": {},
   "source": [
    "Retrieve S3 URI for the pre-trained factory default model"
   ]
  },
  {
   "cell_type": "code",
   "execution_count": 10,
   "id": "3744dd7e-c804-4475-9670-e11fecf6e841",
   "metadata": {
    "tags": []
   },
   "outputs": [
    {
     "data": {
      "text/plain": [
       "'s3://jumpstart-cache-prod-us-east-1/huggingface-infer/infer-huggingface-textgeneration-gpt2.tar.gz'"
      ]
     },
     "execution_count": 10,
     "metadata": {},
     "output_type": "execute_result"
    }
   ],
   "source": [
    "model_uri = model_uris.retrieve(model_id=MODEL_ID, \n",
    "                                model_version=MODEL_VERSION, \n",
    "                                model_scope='inference')\n",
    "model_uri"
   ]
  },
  {
   "cell_type": "markdown",
   "id": "9200295d-7e18-4a55-a4fa-30421c929d5a",
   "metadata": {},
   "source": [
    "#### Create model"
   ]
  },
  {
   "cell_type": "code",
   "execution_count": 11,
   "id": "5c390725-295d-4d21-bf20-a6ad2e828762",
   "metadata": {
    "tags": []
   },
   "outputs": [],
   "source": [
    "model = Model(image_uri=image_uri, \n",
    "              source_dir=source_uri, \n",
    "              model_data=model_uri, \n",
    "              entry_point='inference.py', \n",
    "              role=ROLE, \n",
    "              predictor_cls=Predictor, \n",
    "              name=ENDPOINT_NAME)"
   ]
  },
  {
   "cell_type": "markdown",
   "id": "81cafbea-4ebc-4af6-9cdd-61b7a8971230",
   "metadata": {},
   "source": [
    "#### Deploy model "
   ]
  },
  {
   "cell_type": "code",
   "execution_count": 12,
   "id": "9eb11a1b-ff1e-4292-ae52-b2b07df61e89",
   "metadata": {
    "tags": []
   },
   "outputs": [
    {
     "name": "stderr",
     "output_type": "stream",
     "text": [
      "Creating model with name: gpt2\n",
      "CreateModel request: {\n",
      "    \"ModelName\": \"gpt2\",\n",
      "    \"ExecutionRoleArn\": \"arn:aws:iam::119174016168:role/service-role/AmazonSageMaker-ExecutionRole-20211014T093628\",\n",
      "    \"PrimaryContainer\": {\n",
      "        \"Image\": \"763104351884.dkr.ecr.us-east-1.amazonaws.com/huggingface-pytorch-inference:1.10.2-transformers4.17.0-gpu-py38-cu113-ubuntu20.04\",\n",
      "        \"Environment\": {\n",
      "            \"SAGEMAKER_PROGRAM\": \"inference.py\",\n",
      "            \"SAGEMAKER_SUBMIT_DIRECTORY\": \"/opt/ml/model/code\",\n",
      "            \"SAGEMAKER_CONTAINER_LOG_LEVEL\": \"20\",\n",
      "            \"SAGEMAKER_REGION\": \"us-east-1\"\n",
      "        },\n",
      "        \"ModelDataUrl\": \"s3://sagemaker-us-east-1-119174016168/gpt2/model.tar.gz\"\n",
      "    },\n",
      "    \"Tags\": [\n",
      "        {\n",
      "            \"Key\": \"aws-jumpstart-inference-model-uri\",\n",
      "            \"Value\": \"s3://jumpstart-cache-prod-us-east-1/huggingface-infer/infer-huggingface-textgeneration-gpt2.tar.gz\"\n",
      "        },\n",
      "        {\n",
      "            \"Key\": \"aws-jumpstart-inference-script-uri\",\n",
      "            \"Value\": \"s3://jumpstart-cache-prod-us-east-1/source-directory-tarballs/huggingface/inference/textgeneration/v1.1.2/sourcedir.tar.gz\"\n",
      "        }\n",
      "    ]\n",
      "}\n",
      "Creating endpoint-config with name gpt2\n",
      "Creating endpoint with name gpt2\n"
     ]
    },
    {
     "name": "stdout",
     "output_type": "stream",
     "text": [
      "--------------!"
     ]
    }
   ],
   "source": [
    "model_predictor = model.deploy(initial_instance_count=2, \n",
    "                               instance_type=INSTANCE_TYPE, \n",
    "                               predictor_cls=Predictor, \n",
    "                               endpoint_name=ENDPOINT_NAME)"
   ]
  },
  {
   "cell_type": "markdown",
   "id": "015cd727-804a-4fb7-8a33-52d5fa1574ae",
   "metadata": {},
   "source": [
    "#### Invoke deployed model (SageMaker endpoint) for real-time inference "
   ]
  },
  {
   "cell_type": "code",
   "execution_count": 13,
   "id": "bef0f5f2-fb93-4553-b6e7-6ae0f0f9aa92",
   "metadata": {
    "tags": []
   },
   "outputs": [],
   "source": [
    "data = 'China is effectively in a lockdown.'"
   ]
  },
  {
   "cell_type": "code",
   "execution_count": 14,
   "id": "73afa215-a0bc-44d2-8a29-cb5ed167afa1",
   "metadata": {
    "tags": []
   },
   "outputs": [
    {
     "data": {
      "text/plain": [
       "b'\"China is effectively in a lockdown.\"'"
      ]
     },
     "execution_count": 14,
     "metadata": {},
     "output_type": "execute_result"
    }
   ],
   "source": [
    "encoded_text = json.dumps(data).encode('utf-8')\n",
    "encoded_text"
   ]
  },
  {
   "cell_type": "code",
   "execution_count": 15,
   "id": "c94a4880-f9ba-4309-b2b3-eeb84e0ff8c1",
   "metadata": {
    "tags": []
   },
   "outputs": [],
   "source": [
    "CONTENT_TYPE = 'application/x-text'\n",
    "ACCEPT_TYPE = 'application/json'"
   ]
  },
  {
   "cell_type": "code",
   "execution_count": 16,
   "id": "342c5e9b-8079-4ebe-b868-63dcd882384c",
   "metadata": {
    "tags": []
   },
   "outputs": [],
   "source": [
    "HEADERS = {'ContentType': CONTENT_TYPE, \n",
    "           'Accept': ACCEPT_TYPE}"
   ]
  },
  {
   "cell_type": "code",
   "execution_count": 17,
   "id": "48bd3a45-9daf-41f3-b197-ceb121b97fd1",
   "metadata": {
    "tags": []
   },
   "outputs": [
    {
     "data": {
      "text/plain": [
       "b'{\"generated_text\": \"\\\\\"China is effectively in a lockdown.\\\\\" By contrast, the US has been allowed to carry out several other military exercises over the last year, including one over Guam and \\\\\"Dana for Life\\\\\", an air raid against \\\\\"Sleeping Dragon\\\\\" in\"}'"
      ]
     },
     "execution_count": 17,
     "metadata": {},
     "output_type": "execute_result"
    }
   ],
   "source": [
    "response = model_predictor.predict(encoded_text, HEADERS)\n",
    "response"
   ]
  },
  {
   "cell_type": "code",
   "execution_count": 18,
   "id": "b66d93fd-5e14-423e-bdd8-331c7cf3a51a",
   "metadata": {
    "tags": []
   },
   "outputs": [
    {
     "data": {
      "text/plain": [
       "'\"China is effectively in a lockdown.\" By contrast, the US has been allowed to carry out several other military exercises over the last year, including one over Guam and \"Dana for Life\", an air raid against \"Sleeping Dragon\" in'"
      ]
     },
     "execution_count": 18,
     "metadata": {},
     "output_type": "execute_result"
    }
   ],
   "source": [
    "response = json.loads(response)\n",
    "generated_text = response['generated_text']\n",
    "generated_text"
   ]
  },
  {
   "cell_type": "code",
   "execution_count": null,
   "id": "b9578a8c-e775-47b8-b406-bb23d9593e47",
   "metadata": {},
   "outputs": [],
   "source": []
  }
 ],
 "metadata": {
  "instance_type": "ml.t3.medium",
  "kernelspec": {
   "display_name": "Python 3 (Data Science)",
   "language": "python",
   "name": "python3__SAGEMAKER_INTERNAL__arn:aws:sagemaker:us-east-1:081325390199:image/datascience-1.0"
  },
  "language_info": {
   "codemirror_mode": {
    "name": "ipython",
    "version": 3
   },
   "file_extension": ".py",
   "mimetype": "text/x-python",
   "name": "python",
   "nbconvert_exporter": "python",
   "pygments_lexer": "ipython3",
   "version": "3.7.10"
  }
 },
 "nbformat": 4,
 "nbformat_minor": 5
}
