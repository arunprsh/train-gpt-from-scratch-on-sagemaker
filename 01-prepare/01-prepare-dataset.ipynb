{
 "cells": [
  {
   "cell_type": "markdown",
   "id": "819e475e",
   "metadata": {},
   "source": [
    "### Prerequisites"
   ]
  },
  {
   "cell_type": "markdown",
   "id": "06a748bc",
   "metadata": {},
   "source": [
    "* Choose `Switch instance type` above\n",
    "* Toggle `Fast launch only` to select more instance types\n",
    "* Change instance type to `ml.m5.2xlarge`\n",
    "* For Kernel, choose `Python 3 (Data Science)`"
   ]
  },
  {
   "cell_type": "markdown",
   "id": "7fba72a7",
   "metadata": {},
   "source": [
    "##### > Install dependencies "
   ]
  },
  {
   "cell_type": "code",
   "execution_count": null,
   "id": "f5be1339",
   "metadata": {
    "tags": []
   },
   "outputs": [],
   "source": [
    "%%capture \n",
    "\n",
    "!pip install sagemaker==2.100.0\n",
    "!pip install boto3==1.24.12\n",
    "!pip install kaggle==1.5.12\n",
    "!pip install pandas==1.0.1"
   ]
  },
  {
   "cell_type": "markdown",
   "id": "5d016efc",
   "metadata": {},
   "source": [
    "**Note:** Recommended to restart the Kernel after installing the dependencies above"
   ]
  },
  {
   "cell_type": "markdown",
   "id": "ece7dbb6",
   "metadata": {},
   "source": [
    "### Imports "
   ]
  },
  {
   "cell_type": "code",
   "execution_count": null,
   "id": "7c29201c",
   "metadata": {
    "tags": []
   },
   "outputs": [],
   "source": [
    "from sagemaker import Session\n",
    "from pandas import DataFrame\n",
    "from time import sleep\n",
    "import pandas as pd\n",
    "import sagemaker\n",
    "import logging\n",
    "import pickle\n",
    "import boto3\n",
    "import os"
   ]
  },
  {
   "cell_type": "markdown",
   "id": "a0a5a539",
   "metadata": {},
   "source": [
    "##### > Setup logging"
   ]
  },
  {
   "cell_type": "code",
   "execution_count": null,
   "id": "f0cdb2ad",
   "metadata": {
    "tags": []
   },
   "outputs": [],
   "source": [
    "logger = logging.getLogger('sagemaker')\n",
    "logger.setLevel(logging.DEBUG)\n",
    "logger.addHandler(logging.StreamHandler())"
   ]
  },
  {
   "cell_type": "markdown",
   "id": "2cd4e3b1",
   "metadata": {},
   "source": [
    "##### > Log versions of dependencies"
   ]
  },
  {
   "cell_type": "code",
   "execution_count": null,
   "id": "cb4d8853",
   "metadata": {
    "tags": []
   },
   "outputs": [],
   "source": [
    "logger.info(f'[Using SageMaker version: {sagemaker.__version__}]')\n",
    "logger.info(f'[Using Boto3 version: {boto3.__version__}]')\n",
    "logger.info(f'[Using Pandas version: {pd.__version__}]')"
   ]
  },
  {
   "cell_type": "markdown",
   "id": "b2928702",
   "metadata": {},
   "source": [
    "### Essentials"
   ]
  },
  {
   "cell_type": "code",
   "execution_count": null,
   "id": "27dd5a93",
   "metadata": {
    "tags": []
   },
   "outputs": [],
   "source": [
    "session = Session()\n",
    "s3 = boto3.resource('s3')\n",
    "\n",
    "S3_BUCKET = session.default_bucket()\n",
    "S3_DATA_FOLDER = 'data'\n",
    "\n",
    "logger.info(f'S3 bucket = {S3_BUCKET}')"
   ]
  },
  {
   "cell_type": "markdown",
   "id": "3c87893f",
   "metadata": {},
   "source": [
    "### Prepare data"
   ]
  },
  {
   "cell_type": "markdown",
   "id": "3bda9415",
   "metadata": {},
   "source": [
    "##### > Follow the instructions below to download COVID news articles dataset from kaggle here: https://www.kaggle.com/datasets/timmayer/covid-news-articles-2020-2022/\n",
    "\n",
    "* Create a Kaggle account if you don't have one using an email id.\n",
    "* Once you have an account, under Account, click `Create New API Token` button as shown below.<br>\n",
    "![kaggle-credentials](./../img/kaggle-credentials.png)<br>\n",
    "* This should download a JSON file named `kaggle.json` with your API credentials.\n",
    "* Copy the `username` and `key` from the downloaded JSON and assign it to the environment variables as shown below."
   ]
  },
  {
   "cell_type": "code",
   "execution_count": null,
   "id": "75d90f29",
   "metadata": {},
   "outputs": [],
   "source": [
    "os.environ['KAGGLE_USERNAME'] = 'ENTER YOUR KAGGLE USERNAME>'\n",
    "os.environ['KAGGLE_KEY'] = 'ENTER YOUR KAGGLE KEY'"
   ]
  },
  {
   "cell_type": "markdown",
   "id": "bfbd9ced",
   "metadata": {},
   "source": [
    "##### > Download raw dataset from Kaggle to your local directory"
   ]
  },
  {
   "cell_type": "code",
   "execution_count": null,
   "id": "bbc04758",
   "metadata": {},
   "outputs": [],
   "source": [
    "!kaggle datasets download -d timmayer/covid-news-articles-2020-2022 \n",
    "!unzip covid-news-articles-2020-2022.zip"
   ]
  },
  {
   "cell_type": "markdown",
   "id": "b35b18b8",
   "metadata": {},
   "source": [
    "##### > Upload raw dataset from local to S3"
   ]
  },
  {
   "cell_type": "code",
   "execution_count": null,
   "id": "96044a32",
   "metadata": {},
   "outputs": [],
   "source": [
    "!aws s3 cp covid_articles_raw.csv s3://{S3_BUCKET}/data/covid_articles_raw.csv "
   ]
  },
  {
   "cell_type": "code",
   "execution_count": null,
   "id": "3d3bcf33",
   "metadata": {
    "tags": []
   },
   "outputs": [],
   "source": [
    "RAW_INPUT_DATA_S3_LOCATION = f's3://{S3_BUCKET}/data/covid_articles_raw.csv'"
   ]
  },
  {
   "cell_type": "markdown",
   "id": "84361aea",
   "metadata": {},
   "source": [
    "##### > Read raw dataset into a pandas dataframe"
   ]
  },
  {
   "cell_type": "code",
   "execution_count": null,
   "id": "343145a7",
   "metadata": {
    "tags": []
   },
   "outputs": [],
   "source": [
    "%%time\n",
    "\n",
    "df = pd.read_csv(RAW_INPUT_DATA_S3_LOCATION)\n",
    "df.dropna(inplace=True)\n",
    "df = df.apply(lambda x: x.str.lower())\n",
    "df.head()"
   ]
  },
  {
   "cell_type": "code",
   "execution_count": null,
   "id": "70d31ea5",
   "metadata": {
    "tags": []
   },
   "outputs": [],
   "source": [
    "df.shape"
   ]
  },
  {
   "cell_type": "markdown",
   "id": "026af32d",
   "metadata": {},
   "source": [
    "### III. Prepare dataset for BERT MLM training "
   ]
  },
  {
   "cell_type": "code",
   "execution_count": null,
   "id": "875a5e92",
   "metadata": {
    "tags": []
   },
   "outputs": [],
   "source": [
    "mlm_df = df[['title', 'content']].copy()\n",
    "mlm_df['content'] = mlm_df['content'].apply(lambda x: x.replace('hi, what are you looking for?\\nby\\npublished\\n', ''))\n",
    "mlm_df['content'] = mlm_df['content'].apply(lambda x: x.replace('\\n', ' '))\n",
    "mlm_df.head()"
   ]
  },
  {
   "cell_type": "code",
   "execution_count": null,
   "id": "9a9c31da-ed16-4504-84e0-1d3bfbf500b0",
   "metadata": {
    "tags": []
   },
   "outputs": [],
   "source": [
    "mlm_df.shape"
   ]
  },
  {
   "cell_type": "code",
   "execution_count": null,
   "id": "89b775c6",
   "metadata": {
    "tags": []
   },
   "outputs": [],
   "source": [
    "with open('covid_articles.txt', 'w', encoding='utf-8') as f:\n",
    "    for title, content in zip(mlm_df.title.values, mlm_df.content.values):\n",
    "        f.write('\\n'.join([title, content]))"
   ]
  },
  {
   "cell_type": "markdown",
   "id": "9c9b77bc",
   "metadata": {},
   "source": [
    "##### > Copy dataset from local to S3"
   ]
  },
  {
   "cell_type": "code",
   "execution_count": null,
   "id": "8777858b",
   "metadata": {},
   "outputs": [],
   "source": [
    "%%time\n",
    "\n",
    "s3.meta.client.upload_file('.././data/covid_articles.txt', S3_BUCKET, f'{S3_DATA_FOLDER}/covid_articles.txt')"
   ]
  },
  {
   "cell_type": "markdown",
   "id": "74818cac",
   "metadata": {},
   "source": [
    "#### Clean up local copies of data "
   ]
  },
  {
   "cell_type": "code",
   "execution_count": null,
   "id": "877df63a",
   "metadata": {},
   "outputs": [],
   "source": [
    "! rm covid_articles_raw.csv"
   ]
  },
  {
   "cell_type": "code",
   "execution_count": null,
   "id": "3426e8e7",
   "metadata": {},
   "outputs": [],
   "source": [
    "! rm covid-news-articles-2020-2022.zip"
   ]
  },
  {
   "cell_type": "code",
   "execution_count": null,
   "id": "9cf09b21",
   "metadata": {},
   "outputs": [],
   "source": [
    "! rm .././data/covid_articles.txt"
   ]
  }
 ],
 "metadata": {
  "instance_type": "ml.m5.2xlarge",
  "kernelspec": {
   "display_name": "Python 3 (Data Science)",
   "language": "python",
   "name": "python3__SAGEMAKER_INTERNAL__arn:aws:sagemaker:us-east-1:081325390199:image/datascience-1.0"
  },
  "language_info": {
   "codemirror_mode": {
    "name": "ipython",
    "version": 3
   },
   "file_extension": ".py",
   "mimetype": "text/x-python",
   "name": "python",
   "nbconvert_exporter": "python",
   "pygments_lexer": "ipython3",
   "version": "3.7.10"
  }
 },
 "nbformat": 4,
 "nbformat_minor": 5
}
